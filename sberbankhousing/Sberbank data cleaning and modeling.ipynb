{
 "cells": [
  {
   "cell_type": "markdown",
   "metadata": {
    "hideCode": false,
    "hidePrompt": false
   },
   "source": [
    "### Import Packages"
   ]
  },
  {
   "cell_type": "code",
   "execution_count": 1,
   "metadata": {
    "hideCode": false,
    "hideOutput": true,
    "hidePrompt": false
   },
   "outputs": [
    {
     "name": "stderr",
     "output_type": "stream",
     "text": [
      "/Users/hubertjenq/anaconda3/lib/python3.6/site-packages/sklearn/cross_validation.py:44: DeprecationWarning: This module was deprecated in version 0.18 in favor of the model_selection module into which all the refactored classes and functions are moved. Also note that the interface of the new CV iterators are different from that of this module. This module will be removed in 0.20.\n",
      "  \"This module will be removed in 0.20.\", DeprecationWarning)\n"
     ]
    }
   ],
   "source": [
    "import numpy as np # linear algebra\n",
    "import pandas as pd # data processing, CSV file I/O (e.g. pd.read_csv)\n",
    "import matplotlib.pyplot as plt\n",
    "import seaborn as sns\n",
    "import random\n",
    "import os\n",
    "\n",
    "from fancyimpute import KNN, SimpleFill\n",
    "from sklearn import model_selection, preprocessing\n",
    "from sklearn.base import BaseEstimator, TransformerMixin\n",
    "from sklearn.preprocessing import Imputer\n",
    "import sklearn.metrics as sklm\n",
    "from sklearn.decomposition import PCA\n",
    "from sklearn.preprocessing import scale\n",
    "from sklearn.linear_model import Lasso, LassoCV, LinearRegression, Ridge, RidgeCV,ElasticNetCV,ElasticNet\n",
    "from sklearn.tree import DecisionTreeRegressor\n",
    "from sklearn.ensemble import RandomForestRegressor\n",
    "\n",
    "import xgboost as xgb\n",
    "color = sns.color_palette()\n",
    "\n",
    "\n",
    "from hyperopt import hp\n",
    "from hyperopt import fmin, tpe, hp, STATUS_OK, Trials\n",
    "import hyperopt.pyll.stochastic\n",
    "\n",
    "from subprocess import check_output\n",
    "\n",
    "\n",
    "%matplotlib inline\n",
    "\n",
    "pd.options.mode.chained_assignment = None  # default='warn'\n",
    "pd.set_option('display.max_columns', 500)"
   ]
  },
  {
   "cell_type": "markdown",
   "metadata": {
    "hideCode": false,
    "hidePrompt": false
   },
   "source": [
    "### Import data"
   ]
  },
  {
   "cell_type": "code",
   "execution_count": 2,
   "metadata": {
    "collapsed": true,
    "hideCode": false,
    "hidePrompt": false
   },
   "outputs": [],
   "source": [
    "# change wd and import data files\n",
    "os.chdir(\"/Users/hubertjenq/kaggle/sberbank russian housing\")\n",
    "train_df = pd.read_csv(\"train.csv\",parse_dates=['timestamp'])\n",
    "test_df = pd.read_csv(\"test.csv\",parse_dates=['timestamp'])\n",
    "VIFvalues=pd.read_csv(\"VIFvalues.csv\")\n",
    "\n",
    "#use only low VIF columns from the macro data\n",
    "macroecon_cols = [\"balance_trade\", \"balance_trade_growth\", \"eurrub\", \"average_provision_of_build_contract\",\n",
    "\"micex_rgbi_tr\", \"micex_cbi_tr\", \"deposits_rate\", \"mortgage_value\", \"mortgage_rate\",\n",
    "\"income_per_cap\", \"rent_price_4+room_bus\", \"museum_visitis_per_100_cap\", \"apartment_build\"]\n",
    "macro_df = pd.read_csv(\"macro.csv\", parse_dates=['timestamp'], usecols=['timestamp'] + macroecon_cols)\n",
    "\n",
    "#full macro data\n",
    "fullmacro_df = pd.read_csv(\"macro.csv\", parse_dates=['timestamp'])"
   ]
  },
  {
   "cell_type": "markdown",
   "metadata": {
    "hideCode": false,
    "hidePrompt": false
   },
   "source": [
    "## Data Quality/error fixes"
   ]
  },
  {
   "cell_type": "code",
   "execution_count": 3,
   "metadata": {
    "collapsed": true,
    "hideCode": false,
    "hidePrompt": false,
    "scrolled": true
   },
   "outputs": [],
   "source": [
    "#drop the top 1% and bottom 1% price docs\n",
    "\n",
    "#price_ulimit = np.percentile(train_df.price_doc.values, 99)\n",
    "#price_llimit = np.percentile(train_df.price_doc.values, 1)\n",
    "\n",
    "price_ulimit=1e8\n",
    "\n",
    "train_df =  train_df.loc[train_df['price_doc'] < price_ulimit] \n",
    "#train_df =  train_df.loc[train_df['price_doc'] > price_llimit] \n",
    "\n",
    "#add number of nulls\n",
    "train_df[\"null_count\"] = train_df.isnull().sum(axis=1)\n",
    "test_df[\"null_count\"] = test_df.isnull().sum(axis=1)\n",
    "\n",
    "#fix wrong state to the most occured state\n",
    "train_df.loc[train_df['state'] == 33, 'state'] = train_df['state'].mode().iloc[0]\n",
    "\n",
    "#fix build year errors\n",
    "train_df[train_df['build_year']==0]['build_year']=np.nan\n",
    "train_df[train_df['build_year']==1]['build_year']=np.nan\n",
    "train_df[train_df['build_year']==3]['build_year']=np.nan\n",
    "train_df[train_df['build_year']==4965]['build_year']=np.nan\n",
    "train_df[train_df['build_year']==71]['build_year']=np.nan"
   ]
  },
  {
   "cell_type": "code",
   "execution_count": 4,
   "metadata": {
    "collapsed": true,
    "hideCode": false,
    "hidePrompt": false
   },
   "outputs": [],
   "source": [
    "train_df['build_year']=train_df['build_year'].replace(215,2015)\n",
    "train_df['build_year']=train_df['build_year'].replace(20052009,2005)\n",
    "train_df['build_year']=train_df['build_year'].replace(20,2000)"
   ]
  },
  {
   "cell_type": "markdown",
   "metadata": {
    "hideCode": false,
    "hidePrompt": false
   },
   "source": [
    "### resample the investment for more accurate validation"
   ]
  },
  {
   "cell_type": "code",
   "execution_count": 5,
   "metadata": {
    "collapsed": true,
    "hideCode": false,
    "hidePrompt": false
   },
   "outputs": [],
   "source": [
    "\n",
    "sub_df = train_df[train_df.timestamp < '2015-01-01']\n",
    "sub_df = sub_df[sub_df.product_type.values == 'Investment']\n",
    "\n",
    "ind_1m = sub_df[sub_df.price_doc <= 1000000].index\n",
    "ind_2m = sub_df[sub_df.price_doc == 2000000].index\n",
    "ind_3m = sub_df[sub_df.price_doc == 3000000].index\n",
    "\n",
    "train_index = set(train_df.index.copy())\n",
    "\n",
    "for ind, gap in zip([ind_1m, ind_2m, ind_3m], [10, 3, 2]):\n",
    "    ind_set = set(ind)\n",
    "    ind_set_cut = ind.difference(set(ind[::gap]))\n",
    "\n",
    "    train_index = train_index.difference(ind_set_cut)\n",
    "\n",
    "train_df = train_df.loc[train_index, :]\n"
   ]
  },
  {
   "cell_type": "markdown",
   "metadata": {
    "hideCode": false,
    "hidePrompt": false
   },
   "source": [
    "### Generate features that depend on the train/test set"
   ]
  },
  {
   "cell_type": "markdown",
   "metadata": {
    "hideCode": false,
    "hidePrompt": false
   },
   "source": [
    "### Merge train/test for more cleaning/feature generation"
   ]
  },
  {
   "cell_type": "code",
   "execution_count": 6,
   "metadata": {
    "collapsed": true,
    "hideCode": false,
    "hidePrompt": false
   },
   "outputs": [],
   "source": [
    "\n",
    "#Make a data frame with all the data in it\n",
    "\n",
    "#count test/train data\n",
    "num_train=train_df.shape[0]\n",
    "num_test=train_df.shape[0]\n",
    "\n",
    "#save id and price of the train/test \n",
    "train_id=train_df['id']\n",
    "train_logprice=np.log1p(train_df['price_doc'].values)\n",
    "test_id=test_df['id']\n",
    "\n",
    "#drop id and price\n",
    "train_df.drop(['price_doc'],axis=1,inplace=True)\n"
   ]
  },
  {
   "cell_type": "code",
   "execution_count": 7,
   "metadata": {
    "collapsed": true,
    "hideCode": false,
    "hidePrompt": false
   },
   "outputs": [],
   "source": [
    "#Combine test/train and the macro data by timestamp\n",
    "all_df = pd.concat([train_df,test_df])\n",
    "all_df = pd.merge_ordered(all_df,macro_df,on='timestamp',how='left')"
   ]
  },
  {
   "cell_type": "code",
   "execution_count": 8,
   "metadata": {
    "collapsed": true,
    "hideCode": false,
    "hidePrompt": false
   },
   "outputs": [],
   "source": [
    "#remove extreme life/full square footage values and set as NA\n",
    "\n",
    "full_sq_ulimit = 250\n",
    "life_sq_ulimit = 250\n",
    "full_sq_llimit = 10\n",
    "life_sq_llimit = 5\n",
    "\n",
    "all_df.loc[all_df['full_sq']>full_sq_ulimit, 'full_sq'] = np.nan\n",
    "all_df.loc[all_df['full_sq']<full_sq_llimit, 'full_sq'] = np.nan\n",
    "all_df.loc[all_df['life_sq']>life_sq_ulimit, 'life_sq'] = np.nan\n",
    "all_df.loc[all_df['life_sq']<life_sq_llimit, 'life_sq'] = np.nan\n",
    "\n",
    "#all_df=all_df.loc[all_df['full_sq']<full_sq_ulimit]\n",
    "#all_df=all_df.loc[all_df['full_sq']>full_sq_llimit]\n",
    "#all_df=all_df.loc[all_df['life_sq']<life_sq_ulimit]\n",
    "#all_df=all_df.loc[all_df['life_sq']>life_sq_llimit]\n",
    "\n",
    "#make material an object type\n",
    "all_df['material']=all_df['material'].astype(object)\n",
    "\n",
    "#living square footage is probably incorrect if it is over 90% of total square footage, so set to NA\n",
    "all_df['life_full_ratio'] = all_df['life_sq'] / all_df['full_sq']\n",
    "all_df.loc[all_df['life_full_ratio'] > 0.9, 'life_sq'] = .9*all_df.life_sq\n",
    "\n",
    "#Set max/floor floor values of 0 to nan\n",
    "all_df.loc[all_df['floor'] == 0, 'floor'] = np.nan\n",
    "all_df.loc[all_df['max_floor'] == 0, 'max_floor'] = np.nan\n",
    "all_df.loc[all_df['max_floor'] == 1, 'max_floor'] = np.nan\n",
    "\n",
    "\n",
    "#Set the max/floor values to nan if the floor is higher than the \"max floor\"\n",
    "all_df.loc[all_df['max_floor'] < all_df['floor'], ['floor', 'max_floor']] = np.nan\n",
    "#remove buildings built in the future/very old buildings\n",
    "all_df.loc[all_df['build_year'] > 2017, 'build_year'] = np.nan\n",
    "all_df.loc[all_df['build_year'] < 1900, 'build_year'] = np.nan\n"
   ]
  },
  {
   "cell_type": "markdown",
   "metadata": {
    "hideCode": false,
    "hidePrompt": false
   },
   "source": [
    "### All data error fixes"
   ]
  },
  {
   "cell_type": "code",
   "execution_count": 9,
   "metadata": {
    "collapsed": true,
    "hideCode": false,
    "hidePrompt": false
   },
   "outputs": [],
   "source": [
    "\n",
    "#remove num room for extremes\n",
    "all_df.loc[all_df['num_room'] == 0, 'num_room'] = np.nan\n",
    "all_df.loc[all_df['num_room'] >= 10, 'num_room'] = np.nan\n",
    "\n",
    "#set smaller than 3 kitchen_sq's to not footage\n",
    "all_df.loc[all_df['kitch_sq'] <= 3.0 , 'kitch_sq'] = np.nan\n",
    "\n",
    "#if the house is a high percentage kitchen, set the kitchen to na\n",
    "all_df.loc[all_df['full_sq'] - all_df['kitch_sq'] <= 5.0 , 'kitch_sq'] = np.nan\n",
    "\n",
    "#state typo\n",
    "all_df.loc[all_df['state'] == 33 , 'state'] = 3\n"
   ]
  },
  {
   "cell_type": "markdown",
   "metadata": {
    "hideCode": false,
    "hidePrompt": false
   },
   "source": [
    "### Make new features"
   ]
  },
  {
   "cell_type": "code",
   "execution_count": 10,
   "metadata": {
    "collapsed": true,
    "hideCode": false,
    "hidePrompt": false
   },
   "outputs": [],
   "source": [
    "#Convert timestamp to year, month, day of week, and date \n",
    "all_df['yearsale']=pd.DatetimeIndex(all_df['timestamp']).year\n",
    "all_df['monthsale']=pd.DatetimeIndex(all_df['timestamp']).month\n",
    "all_df['dayofweeksale']=pd.DatetimeIndex(all_df['timestamp']).weekday\n",
    "all_df['dateofsale']=pd.DatetimeIndex(all_df['timestamp']).day\n"
   ]
  },
  {
   "cell_type": "code",
   "execution_count": 11,
   "metadata": {
    "collapsed": true,
    "hideCode": false,
    "hidePrompt": false
   },
   "outputs": [],
   "source": [
    "#add houseage\n",
    "all_df['houseage']=2017-all_df['build_year']\n",
    "\n",
    "def add_count(df, group_col):\n",
    "    grouped_df = df.groupby(group_col)[\"id\"].aggregate(\"count\").reset_index()\n",
    "    grouped_df.columns = [group_col, \"count_\"+group_col]\n",
    "    df = pd.merge(df, grouped_df, on=group_col, how=\"left\")\n",
    "    return df\n",
    "\n",
    "#properties sold in the month\n",
    "all_df['yearmonth']=100*all_df['yearsale']+all_df['monthsale']\n",
    "\n",
    "all_df['numdays']=365*(all_df['yearsale']-2011)+all_df['monthsale']*30+all_df['dateofsale']\n",
    "all_df = add_count(all_df, \"yearmonth\")"
   ]
  },
  {
   "cell_type": "code",
   "execution_count": 12,
   "metadata": {
    "collapsed": true,
    "hideCode": false,
    "hidePrompt": false
   },
   "outputs": [],
   "source": [
    "#add number of floors from top\n",
    "all_df['floorsfromtop']=all_df['max_floor']-all_df['floor'].astype(float)\n",
    "#relative floors\n",
    "all_df['relativefloor']=all_df['floor']/all_df['max_floor'].astype(float)\n",
    "#add average room size\n",
    "all_df['avgroomsize']=all_df['full_sq']/all_df['num_room'].astype(float)\n",
    "#add kitchen size percentage of house\n",
    "all_df['kitchenpercentage']=all_df['kitch_sq']/all_df['full_sq'].astype(float)\n",
    "\n",
    "\n",
    "all_df = pd.merge_ordered(all_df,macro_df,on='timestamp',how='left')\n",
    "\n",
    "#drop timestamp\n",
    "all_df.drop(['timestamp','id'],inplace=True,axis=1)\n",
    "\n",
    "#Drop high VIF\n",
    "#drop covariates based on VIF:\n",
    "#VIFvalues.VIF>1000\n",
    "#highVIF = VIFvalues[0:50].covariate.values\n",
    "#all_df.drop(highVIF,inplace=True,axis=1)"
   ]
  },
  {
   "cell_type": "code",
   "execution_count": 13,
   "metadata": {
    "collapsed": true,
    "hideCode": false,
    "hidePrompt": false
   },
   "outputs": [],
   "source": [
    "all_obj_df=all_df.select_dtypes(include=['object']).copy()\n",
    "all_num_df=all_df.select_dtypes(exclude=['object'])\n",
    "#XforVIF=all_num_df.copy()[:num_train]\n",
    "\n",
    "##CHANGE HERE\n",
    "#all_num_df=ReducedX\n",
    "\n",
    "#Change catagorical variables to factors\n",
    "\n",
    "#OHE\n",
    "oheObjects=pd.get_dummies(all_obj_df)\n",
    "all_df_values=pd.concat([all_num_df,oheObjects],axis=1)\n",
    "\n",
    "#BY FACTORIZE\n",
    "#for c in all_obj_df:\n",
    "#    all_obj_df[c] = pd.factorize(all_obj_df[c])[0]\n",
    "    \n",
    "#convert to numeric values\n",
    "all_x = all_df_values.values\n",
    "\n",
    "colnames=all_df_values.columns.values\n"
   ]
  },
  {
   "cell_type": "code",
   "execution_count": 14,
   "metadata": {},
   "outputs": [
    {
     "data": {
      "text/plain": [
       "(36696, 313)"
      ]
     },
     "execution_count": 14,
     "metadata": {},
     "output_type": "execute_result"
    }
   ],
   "source": [
    "all_num_df.shape"
   ]
  },
  {
   "cell_type": "code",
   "execution_count": 15,
   "metadata": {
    "collapsed": true,
    "hideCode": false,
    "hidePrompt": false
   },
   "outputs": [],
   "source": [
    "#split all data back into test/training\n",
    "\n",
    "train_x = all_x[:num_train]\n",
    "test_x = all_x[num_train:]\n",
    "\n",
    "plot_x=all_df[:num_train]\n",
    "\n",
    "#Choose 80% training 20% validation set with these indices\n",
    "indices = np.random.permutation(train_x.shape[0])\n",
    "valind = indices[:round(.2*train_x.shape[0])]\n",
    "trainind = indices[round(.2*train_x.shape[0]):]\n",
    "\n",
    "#split the training/validation x/\n",
    "val_x = train_x[valind]\n",
    "trainmod_x = train_x[trainind]\n",
    "val_y = train_logprice[valind]\n",
    "trainmod_y = train_logprice[trainind]\n"
   ]
  },
  {
   "cell_type": "markdown",
   "metadata": {
    "hideCode": false,
    "hidePrompt": false
   },
   "source": [
    "## Missing value imputation"
   ]
  },
  {
   "cell_type": "code",
   "execution_count": 16,
   "metadata": {
    "collapsed": true,
    "hideCode": false,
    "hidePrompt": false
   },
   "outputs": [],
   "source": [
    "#Impute data for those that need data imputation methods\n",
    "\n",
    "#median imputation\n",
    "def medianimputedata(data):\n",
    "    imputer=preprocessing.Imputer(missing_values='NaN',strategy='median',axis=0)\n",
    "    imputed_data=pd.DataFrame(imputer.fit_transform(data),columns=colnames)\n",
    "    return imputed_data\n",
    "\n",
    "all_x_medianimputed=medianimputedata(all_x)\n",
    "#split imputed data\n",
    "train_x_medianimputed = all_x_medianimputed[:num_train]\n",
    "test_x_medianimputed = all_x_medianimputed[num_train:]\n",
    "train_x_medianimputed_scaled= scale(train_x_medianimputed)\n",
    "\n",
    "val_x_medianimputed = train_x_medianimputed.iloc[valind]\n",
    "trainmod_x_medianimputed = train_x_medianimputed.iloc[trainind]\n"
   ]
  },
  {
   "cell_type": "code",
   "execution_count": 17,
   "metadata": {
    "collapsed": true,
    "hideCode": false,
    "hidePrompt": false,
    "scrolled": true
   },
   "outputs": [],
   "source": [
    "#KNN imputation\n",
    "#divide groups for imputation\n",
    "\n",
    "def KNNimpute(data):\n",
    "    housechar=range(0,8)\n",
    "    schools=range(8,26)\n",
    "    demographics=range(26,53)\n",
    "    buildingchar=range(53,69)\n",
    "    disttothings=range(69,134)\n",
    "    countsperthings=range(134,300)\n",
    "    macrostats=range(300,395)\n",
    "    ohe=range(395,587)\n",
    "    \n",
    "    index=[housechar,schools,demographics,buildingchar,disttothings,countsperthings,macrostats,ohe]\n",
    "    datacopy=np.copy(data)\n",
    "    \n",
    "    for i in index: \n",
    "        if(sum(sum(np.isnan(data))[i])!=0):\n",
    "            datacopy[:,i]=KNN(k=3).complete(data[:,i])\n",
    "            print(\"computing\",i)\n",
    "            \n",
    "    imputed_data=pd.DataFrame(datacopy,columns=colnames)\n",
    "\n",
    "    return imputed_data"
   ]
  },
  {
   "cell_type": "code",
   "execution_count": 18,
   "metadata": {
    "collapsed": true,
    "hideCode": false,
    "hidePrompt": false
   },
   "outputs": [],
   "source": [
    "#test_x_knnimputed = KNNimpute(test_x)\n",
    "#train_x_knnimputed = KNNimpute(train_x)"
   ]
  },
  {
   "cell_type": "code",
   "execution_count": 19,
   "metadata": {
    "collapsed": true,
    "hideCode": false,
    "hidePrompt": false
   },
   "outputs": [],
   "source": [
    "#split imputed data\n",
    "#test_x_knnimputed=pd.DataFrame(test_x_knnimputed,columns=colnames)\n",
    "#train_x_knnimputed=pd.DataFrame(train_x_knnimputed,columns=colnames)\n",
    "\n",
    "#test_x_knnimputed.to_csv('test_x_knnimputed.csv', index=False)\n",
    "#train_x_knnimputed.to_csv('train_x_knnimputed.csv', index=False)\n",
    "\n",
    "test_x_knnimputed = pd.read_csv(\"test_x_knnimputed.csv\")\n",
    "train_x_knnimputed = pd.read_csv(\"train_x_knnimputed.csv\")\n",
    "\n",
    "val_x_knnimputed = train_x_knnimputed.iloc[valind]\n",
    "trainmod_x_knnimputed = train_x_knnimputed.iloc[trainind]"
   ]
  },
  {
   "cell_type": "markdown",
   "metadata": {
    "hideCode": false,
    "hidePrompt": false
   },
   "source": [
    "### Plotting"
   ]
  },
  {
   "cell_type": "code",
   "execution_count": 20,
   "metadata": {
    "collapsed": true,
    "hideCode": false,
    "hidePrompt": false
   },
   "outputs": [],
   "source": [
    "def jointplot(varname):\n",
    "    plt.figure(figsize=(6,6))\n",
    "    values=all_df[:num_train][str(varname)].dropna().values\n",
    "    notnaindex=np.where(all_df[:num_train][[varname]].notnull())[0]\n",
    "    sns.jointplot(x=np.transpose(values), y=train_logprice[notnaindex], size=10,kind='kde')\n",
    "    plt.title('Log price vs. %s' %varname)\n",
    "    plt.ylabel('Log of Price', fontsize=22)\n",
    "    plt.xlabel('%s' %varname, fontsize=22)\n",
    "    plt.savefig('%s vslogprice.png' %varname,dpi=300)\n",
    "    plt.show()\n",
    "    return\n",
    "\n",
    "\n",
    "def xyscatter(xvar,yvar):\n",
    "    sns.regplot(xvar,yvar,x_bins=50,lowess=True)\n",
    "    plt.show()\n",
    "    return\n",
    "\n"
   ]
  },
  {
   "cell_type": "markdown",
   "metadata": {
    "hideCode": false,
    "hidePrompt": false
   },
   "source": [
    "##### Plot Missingness"
   ]
  },
  {
   "cell_type": "code",
   "execution_count": 21,
   "metadata": {
    "hideCode": false,
    "hidePrompt": false
   },
   "outputs": [
    {
     "data": {
      "image/png": "[encoded data removed]",
      "text/plain": [
       "<matplotlib.figure.Figure at 0x114bc6b00>"
      ]
     },
     "metadata": {},
     "output_type": "display_data"
    }
   ],
   "source": [
    "g=plt.figure()\n",
    "sns.barplot(plot_x['yearmonth'], train_df.iloc[:,:13].isnull().sum(axis=1))\n",
    "plt.title('Missing Housing Characteristic vs. Year-month',size=18)\n",
    "plt.ylabel('Housing Characteristic Missing')\n",
    "plt.xticks(rotation='vertical')\n",
    "plt.tight_layout()\n",
    "plt.savefig('timevsmissinghousingchar.png',dpi=300)\n"
   ]
  },
  {
   "cell_type": "code",
   "execution_count": 22,
   "metadata": {
    "hideCode": false,
    "hidePrompt": false
   },
   "outputs": [
    {
     "data": {
      "text/plain": [
       "timestamp           0\n",
       "full_sq             0\n",
       "life_sq          6382\n",
       "floor             155\n",
       "max_floor        9007\n",
       "material         9007\n",
       "build_year      13035\n",
       "num_room         9007\n",
       "kitch_sq         9007\n",
       "state           12911\n",
       "product_type        0\n",
       "sub_area            0\n",
       "dtype: int64"
      ]
     },
     "execution_count": 22,
     "metadata": {},
     "output_type": "execute_result"
    }
   ],
   "source": [
    "(train_df.iloc[:,1:13].isnull().sum(axis=0))"
   ]
  },
  {
   "cell_type": "code",
   "execution_count": 23,
   "metadata": {
    "hideCode": false,
    "hidePrompt": false
   },
   "outputs": [
    {
     "data": {
      "text/plain": [
       "465942"
      ]
     },
     "execution_count": 23,
     "metadata": {},
     "output_type": "execute_result"
    }
   ],
   "source": [
    "(all_df.isnull()).sum(axis=0).sum()"
   ]
  },
  {
   "cell_type": "code",
   "execution_count": 24,
   "metadata": {
    "hideCode": false,
    "hidePrompt": false
   },
   "outputs": [
    {
     "data": {
      "image/png": "[encoded data removed]",
      "text/plain": [
       "<matplotlib.figure.Figure at 0x114887e48>"
      ]
     },
     "metadata": {},
     "output_type": "display_data"
    }
   ],
   "source": [
    "g=plt.figure()\n",
    "sns.barplot(plot_x['yearmonth'], train_df.iloc[:,13:299].isnull().sum(axis=1))\n",
    "plt.title('Missing Housing Area Characteristic vs. Year-month',size=18)\n",
    "plt.ylabel('Area Characteristic Missing')\n",
    "plt.xticks(rotation='vertical')\n",
    "plt.tight_layout()\n",
    "plt.savefig('timevsothermissing.png',dpi=300)\n"
   ]
  },
  {
   "cell_type": "code",
   "execution_count": 25,
   "metadata": {
    "hideCode": false,
    "hidePrompt": false
   },
   "outputs": [
    {
     "ename": "NameError",
     "evalue": "name 'fig' is not defined",
     "output_type": "error",
     "traceback": [
      "\u001b[0;31m---------------------------------------------------------------------------\u001b[0m",
      "\u001b[0;31mNameError\u001b[0m                                 Traceback (most recent call last)",
      "\u001b[0;32m<ipython-input-25-7e8ef3a9c13e>\u001b[0m in \u001b[0;36m<module>\u001b[0;34m()\u001b[0m\n\u001b[1;32m      1\u001b[0m \u001b[0;31m#Four plot\u001b[0m\u001b[0;34m\u001b[0m\u001b[0;34m\u001b[0m\u001b[0m\n\u001b[0;32m----> 2\u001b[0;31m \u001b[0max1\u001b[0m\u001b[0;34m=\u001b[0m\u001b[0mfig\u001b[0m\u001b[0;34m.\u001b[0m\u001b[0madd_subplot\u001b[0m\u001b[0;34m(\u001b[0m\u001b[0;36m221\u001b[0m\u001b[0;34m)\u001b[0m\u001b[0;34m\u001b[0m\u001b[0m\n\u001b[0m\u001b[1;32m      3\u001b[0m \u001b[0msns\u001b[0m\u001b[0;34m.\u001b[0m\u001b[0mdistplot\u001b[0m\u001b[0;34m(\u001b[0m\u001b[0mtrain_df\u001b[0m\u001b[0;34m.\u001b[0m\u001b[0mprice_doc\u001b[0m\u001b[0;34m.\u001b[0m\u001b[0mvalues\u001b[0m\u001b[0;34m,\u001b[0m \u001b[0mbins\u001b[0m\u001b[0;34m=\u001b[0m\u001b[0;36m50\u001b[0m\u001b[0;34m,\u001b[0m\u001b[0mkde\u001b[0m\u001b[0;34m=\u001b[0m\u001b[0;32mFalse\u001b[0m\u001b[0;34m)\u001b[0m\u001b[0;34m\u001b[0m\u001b[0m\n\u001b[1;32m      4\u001b[0m \u001b[0max2\u001b[0m\u001b[0;34m=\u001b[0m\u001b[0mfig\u001b[0m\u001b[0;34m.\u001b[0m\u001b[0madd_subplot\u001b[0m\u001b[0;34m(\u001b[0m\u001b[0;36m222\u001b[0m\u001b[0;34m)\u001b[0m\u001b[0;34m\u001b[0m\u001b[0m\n\u001b[1;32m      5\u001b[0m \u001b[0msns\u001b[0m\u001b[0;34m.\u001b[0m\u001b[0mdistplot\u001b[0m\u001b[0;34m(\u001b[0m\u001b[0mtrain_df\u001b[0m\u001b[0;34m.\u001b[0m\u001b[0mfull_sq\u001b[0m\u001b[0;34m.\u001b[0m\u001b[0mvalues\u001b[0m\u001b[0;34m,\u001b[0m \u001b[0mbins\u001b[0m\u001b[0;34m=\u001b[0m\u001b[0;36m200\u001b[0m\u001b[0;34m,\u001b[0m\u001b[0mkde\u001b[0m\u001b[0;34m=\u001b[0m\u001b[0;32mFalse\u001b[0m\u001b[0;34m)\u001b[0m\u001b[0;34m\u001b[0m\u001b[0m\n",
      "\u001b[0;31mNameError\u001b[0m: name 'fig' is not defined"
     ]
    }
   ],
   "source": [
    "#Four plot\n",
    "ax1=fig.add_subplot(221)\n",
    "sns.distplot(train_df.price_doc.values, bins=50,kde=False)\n",
    "ax2=fig.add_subplot(222)\n",
    "sns.distplot(train_df.full_sq.values, bins=200,kde=False)\n",
    "plt.xlim(0,500)\n",
    "ax3=fig.add_subplot(223)\n",
    "sns.countplot(train_df.floor.values)\n",
    "ax4=fig.add_subplot(224)\n",
    "sns.countplot(train_df.num_room.dropna().values)\n",
    "plt.xlim(0,10)\n",
    "ax1.set_xlabel('$')\n",
    "ax1.set_title('House Price')\n",
    "ax2.set_xlabel('Housing square footage.')\n",
    "ax2.set_title('Square Meters')\n",
    "ax3.tick_params(axis = 'x',labelsize=4)\n",
    "ax3.set_title('Number of Floors')\n",
    "ax4.set_title('Number of Rooms')\n",
    "plt.tight_layout()\n",
    "plt.savefig('test.png',dpi=300)\n",
    "plt.show()"
   ]
  },
  {
   "cell_type": "code",
   "execution_count": 26,
   "metadata": {
    "hideCode": false,
    "hidePrompt": false
   },
   "outputs": [
    {
     "data": {
      "image/png": "[encoded data removed]",
      "text/plain": [
       "<matplotlib.figure.Figure at 0x113d11e80>"
      ]
     },
     "metadata": {},
     "output_type": "display_data"
    }
   ],
   "source": [
    "#LOGRUBLE VS FULL SQ\n",
    "fig=plt.figure(figsize=(12,6))\n",
    "g=fig.add_subplot(121)\n",
    "sns.regplot(plot_x['full_sq'],train_logprice,lowess=True,line_kws={\"color\":\"g\"},marker='.',scatter_kws={\"s\":15})\n",
    "g.set_title('House Price vs. Full_sq',size=18)\n",
    "g.set_ylabel('Log-Ruble')\n",
    "g=fig.add_subplot(122)\n",
    "sns.regplot(plot_x['life_sq'],train_logprice,lowess=True,line_kws={\"color\":\"g\"},marker='.',scatter_kws={\"s\":15})\n",
    "g.set_title('House Price vs. Life_sq',size=18)\n",
    "g.set_ylabel('Log-Ruble')\n",
    "plt.savefig('housepricevsfullsq.png',dpi=300)\n"
   ]
  },
  {
   "cell_type": "code",
   "execution_count": 28,
   "metadata": {
    "hideCode": false,
    "hidePrompt": false
   },
   "outputs": [
    {
     "data": {
      "image/png": "[encoded data removed]",
      "text/plain": [
       "<matplotlib.figure.Figure at 0x118625cf8>"
      ]
     },
     "metadata": {},
     "output_type": "display_data"
    },
    {
     "data": {
      "image/png": "[encoded data removed]",
      "text/plain": [
       "<matplotlib.figure.Figure at 0x114b58d30>"
      ]
     },
     "metadata": {},
     "output_type": "display_data"
    }
   ],
   "source": [
    "g=plt.figure()\n",
    "sns.boxplot(plot_x['floor'],train_logprice)\n",
    "plt.title('House Price vs. Floor',size=18)\n",
    "plt.ylabel('Log-Ruble')\n",
    "plt.xticks(rotation='vertical')\n",
    "plt.tight_layout()\n",
    "plt.savefig('housepricevsfloor.png',dpi=300)\n",
    "\n",
    "\n",
    "g=plt.figure()\n",
    "sns.boxplot(plot_x['max_floor'],train_logprice)\n",
    "plt.title('House Price vs. Max floor',size=18)\n",
    "plt.ylabel('Log-Ruble')\n",
    "plt.xticks(rotation='vertical')\n",
    "plt.tight_layout()\n",
    "plt.savefig('housepricevsmaxfloor.png',dpi=300)\n"
   ]
  },
  {
   "cell_type": "code",
   "execution_count": 29,
   "metadata": {
    "hideCode": false,
    "hidePrompt": false
   },
   "outputs": [
    {
     "data": {
      "image/png": "[encoded data removed]",
      "text/plain": [
       "<matplotlib.figure.Figure at 0x11488dc88>"
      ]
     },
     "metadata": {},
     "output_type": "display_data"
    }
   ],
   "source": [
    "g=sns.boxplot(plot_x['num_room'],train_logprice)\n",
    "g.set_title('House Price vs. Number of rooms',size=18)\n",
    "g.set_ylabel('Log-Ruble')\n",
    "plt.savefig('pricebynumroom.png',dpi=300)"
   ]
  },
  {
   "cell_type": "code",
   "execution_count": 30,
   "metadata": {
    "hideCode": false,
    "hidePrompt": false
   },
   "outputs": [
    {
     "name": "stderr",
     "output_type": "stream",
     "text": [
      "/Users/hubertjenq/anaconda3/lib/python3.6/site-packages/pandas/core/groupby.py:3961: FutureWarning: using a dict with renaming is deprecated and will be removed in a future version\n",
      "  return super(DataFrameGroupBy, self).aggregate(arg, *args, **kwargs)\n"
     ]
    },
    {
     "ename": "KeyError",
     "evalue": "'price_doc'",
     "output_type": "error",
     "traceback": [
      "\u001b[0;31m---------------------------------------------------------------------------\u001b[0m",
      "\u001b[0;31mKeyError\u001b[0m                                  Traceback (most recent call last)",
      "\u001b[0;32m/Users/hubertjenq/anaconda3/lib/python3.6/site-packages/pandas/core/indexes/base.py\u001b[0m in \u001b[0;36mget_loc\u001b[0;34m(self, key, method, tolerance)\u001b[0m\n\u001b[1;32m   2392\u001b[0m             \u001b[0;32mtry\u001b[0m\u001b[0;34m:\u001b[0m\u001b[0;34m\u001b[0m\u001b[0m\n\u001b[0;32m-> 2393\u001b[0;31m                 \u001b[0;32mreturn\u001b[0m \u001b[0mself\u001b[0m\u001b[0;34m.\u001b[0m\u001b[0m_engine\u001b[0m\u001b[0;34m.\u001b[0m\u001b[0mget_loc\u001b[0m\u001b[0;34m(\u001b[0m\u001b[0mkey\u001b[0m\u001b[0;34m)\u001b[0m\u001b[0;34m\u001b[0m\u001b[0m\n\u001b[0m\u001b[1;32m   2394\u001b[0m             \u001b[0;32mexcept\u001b[0m \u001b[0mKeyError\u001b[0m\u001b[0;34m:\u001b[0m\u001b[0;34m\u001b[0m\u001b[0m\n",
      "\u001b[0;32mpandas/_libs/index.pyx\u001b[0m in \u001b[0;36mpandas._libs.index.IndexEngine.get_loc (pandas/_libs/index.c:5239)\u001b[0;34m()\u001b[0m\n",
      "\u001b[0;32mpandas/_libs/index.pyx\u001b[0m in \u001b[0;36mpandas._libs.index.IndexEngine.get_loc (pandas/_libs/index.c:5085)\u001b[0;34m()\u001b[0m\n",
      "\u001b[0;32mpandas/_libs/hashtable_class_helper.pxi\u001b[0m in \u001b[0;36mpandas._libs.hashtable.PyObjectHashTable.get_item (pandas/_libs/hashtable.c:20405)\u001b[0;34m()\u001b[0m\n",
      "\u001b[0;32mpandas/_libs/hashtable_class_helper.pxi\u001b[0m in \u001b[0;36mpandas._libs.hashtable.PyObjectHashTable.get_item (pandas/_libs/hashtable.c:20359)\u001b[0;34m()\u001b[0m\n",
      "\u001b[0;31mKeyError\u001b[0m: 'price_doc'",
      "\nDuring handling of the above exception, another exception occurred:\n",
      "\u001b[0;31mKeyError\u001b[0m                                  Traceback (most recent call last)",
      "\u001b[0;32m<ipython-input-30-390275d0f351>\u001b[0m in \u001b[0;36m<module>\u001b[0;34m()\u001b[0m\n\u001b[1;32m      1\u001b[0m \u001b[0mplt\u001b[0m\u001b[0;34m.\u001b[0m\u001b[0mfigure\u001b[0m\u001b[0;34m(\u001b[0m\u001b[0mfigsize\u001b[0m\u001b[0;34m=\u001b[0m\u001b[0;34m(\u001b[0m\u001b[0;36m12\u001b[0m\u001b[0;34m,\u001b[0m\u001b[0;36m8\u001b[0m\u001b[0;34m)\u001b[0m\u001b[0;34m)\u001b[0m\u001b[0;34m\u001b[0m\u001b[0m\n\u001b[0;32m----> 2\u001b[0;31m \u001b[0mFloorPricedf\u001b[0m\u001b[0;34m=\u001b[0m\u001b[0mtrain_df\u001b[0m\u001b[0;34m.\u001b[0m\u001b[0mgroupby\u001b[0m\u001b[0;34m(\u001b[0m\u001b[0;34m'num_room'\u001b[0m\u001b[0;34m)\u001b[0m\u001b[0;34m.\u001b[0m\u001b[0magg\u001b[0m\u001b[0;34m(\u001b[0m\u001b[0;34m{\u001b[0m\u001b[0;34m'price_doc'\u001b[0m\u001b[0;34m:\u001b[0m\u001b[0;34m'median'\u001b[0m\u001b[0;34m}\u001b[0m\u001b[0;34m)\u001b[0m\u001b[0;34m.\u001b[0m\u001b[0mreset_index\u001b[0m\u001b[0;34m(\u001b[0m\u001b[0;34m)\u001b[0m\u001b[0;34m\u001b[0m\u001b[0m\n\u001b[0m\u001b[1;32m      3\u001b[0m \u001b[0msns\u001b[0m\u001b[0;34m.\u001b[0m\u001b[0mpointplot\u001b[0m\u001b[0;34m(\u001b[0m\u001b[0mFloorPricedf\u001b[0m\u001b[0;34m[\u001b[0m\u001b[0;34m'floor'\u001b[0m\u001b[0;34m]\u001b[0m\u001b[0;34m,\u001b[0m\u001b[0mFloorPricedf\u001b[0m\u001b[0;34m[\u001b[0m\u001b[0;34m'price_doc'\u001b[0m\u001b[0;34m]\u001b[0m\u001b[0;34m,\u001b[0m\u001b[0mcolor\u001b[0m\u001b[0;34m=\u001b[0m\u001b[0mcolor\u001b[0m\u001b[0;34m[\u001b[0m\u001b[0;36m0\u001b[0m\u001b[0;34m]\u001b[0m\u001b[0;34m)\u001b[0m\u001b[0;34m\u001b[0m\u001b[0m\n\u001b[1;32m      4\u001b[0m \u001b[0mplt\u001b[0m\u001b[0;34m.\u001b[0m\u001b[0mxticks\u001b[0m\u001b[0;34m(\u001b[0m\u001b[0mrotation\u001b[0m\u001b[0;34m=\u001b[0m\u001b[0;34m'vertical'\u001b[0m\u001b[0;34m)\u001b[0m\u001b[0;34m\u001b[0m\u001b[0m\n\u001b[1;32m      5\u001b[0m \u001b[0mplt\u001b[0m\u001b[0;34m.\u001b[0m\u001b[0mylabel\u001b[0m\u001b[0;34m(\u001b[0m\u001b[0;34m'Median Price'\u001b[0m\u001b[0;34m)\u001b[0m\u001b[0;34m\u001b[0m\u001b[0m\n",
      "\u001b[0;32m/Users/hubertjenq/anaconda3/lib/python3.6/site-packages/pandas/core/groupby.py\u001b[0m in \u001b[0;36maggregate\u001b[0;34m(self, arg, *args, **kwargs)\u001b[0m\n\u001b[1;32m   3959\u001b[0m         versionadded=''))\n\u001b[1;32m   3960\u001b[0m     \u001b[0;32mdef\u001b[0m \u001b[0maggregate\u001b[0m\u001b[0;34m(\u001b[0m\u001b[0mself\u001b[0m\u001b[0;34m,\u001b[0m \u001b[0marg\u001b[0m\u001b[0;34m,\u001b[0m \u001b[0;34m*\u001b[0m\u001b[0margs\u001b[0m\u001b[0;34m,\u001b[0m \u001b[0;34m**\u001b[0m\u001b[0mkwargs\u001b[0m\u001b[0;34m)\u001b[0m\u001b[0;34m:\u001b[0m\u001b[0;34m\u001b[0m\u001b[0m\n\u001b[0;32m-> 3961\u001b[0;31m         \u001b[0;32mreturn\u001b[0m \u001b[0msuper\u001b[0m\u001b[0;34m(\u001b[0m\u001b[0mDataFrameGroupBy\u001b[0m\u001b[0;34m,\u001b[0m \u001b[0mself\u001b[0m\u001b[0;34m)\u001b[0m\u001b[0;34m.\u001b[0m\u001b[0maggregate\u001b[0m\u001b[0;34m(\u001b[0m\u001b[0marg\u001b[0m\u001b[0;34m,\u001b[0m \u001b[0;34m*\u001b[0m\u001b[0margs\u001b[0m\u001b[0;34m,\u001b[0m \u001b[0;34m**\u001b[0m\u001b[0mkwargs\u001b[0m\u001b[0;34m)\u001b[0m\u001b[0;34m\u001b[0m\u001b[0m\n\u001b[0m\u001b[1;32m   3962\u001b[0m \u001b[0;34m\u001b[0m\u001b[0m\n\u001b[1;32m   3963\u001b[0m     \u001b[0magg\u001b[0m \u001b[0;34m=\u001b[0m \u001b[0maggregate\u001b[0m\u001b[0;34m\u001b[0m\u001b[0m\n",
      "\u001b[0;32m/Users/hubertjenq/anaconda3/lib/python3.6/site-packages/pandas/core/groupby.py\u001b[0m in \u001b[0;36maggregate\u001b[0;34m(self, arg, *args, **kwargs)\u001b[0m\n\u001b[1;32m   3391\u001b[0m \u001b[0;34m\u001b[0m\u001b[0m\n\u001b[1;32m   3392\u001b[0m         \u001b[0m_level\u001b[0m \u001b[0;34m=\u001b[0m \u001b[0mkwargs\u001b[0m\u001b[0;34m.\u001b[0m\u001b[0mpop\u001b[0m\u001b[0;34m(\u001b[0m\u001b[0;34m'_level'\u001b[0m\u001b[0;34m,\u001b[0m \u001b[0;32mNone\u001b[0m\u001b[0;34m)\u001b[0m\u001b[0;34m\u001b[0m\u001b[0m\n\u001b[0;32m-> 3393\u001b[0;31m         \u001b[0mresult\u001b[0m\u001b[0;34m,\u001b[0m \u001b[0mhow\u001b[0m \u001b[0;34m=\u001b[0m \u001b[0mself\u001b[0m\u001b[0;34m.\u001b[0m\u001b[0m_aggregate\u001b[0m\u001b[0;34m(\u001b[0m\u001b[0marg\u001b[0m\u001b[0;34m,\u001b[0m \u001b[0m_level\u001b[0m\u001b[0;34m=\u001b[0m\u001b[0m_level\u001b[0m\u001b[0;34m,\u001b[0m \u001b[0;34m*\u001b[0m\u001b[0margs\u001b[0m\u001b[0;34m,\u001b[0m \u001b[0;34m**\u001b[0m\u001b[0mkwargs\u001b[0m\u001b[0;34m)\u001b[0m\u001b[0;34m\u001b[0m\u001b[0m\n\u001b[0m\u001b[1;32m   3394\u001b[0m         \u001b[0;32mif\u001b[0m \u001b[0mhow\u001b[0m \u001b[0;32mis\u001b[0m \u001b[0;32mNone\u001b[0m\u001b[0;34m:\u001b[0m\u001b[0;34m\u001b[0m\u001b[0m\n\u001b[1;32m   3395\u001b[0m             \u001b[0;32mreturn\u001b[0m \u001b[0mresult\u001b[0m\u001b[0;34m\u001b[0m\u001b[0m\n",
      "\u001b[0;32m/Users/hubertjenq/anaconda3/lib/python3.6/site-packages/pandas/core/base.py\u001b[0m in \u001b[0;36m_aggregate\u001b[0;34m(self, arg, *args, **kwargs)\u001b[0m\n\u001b[1;32m    563\u001b[0m \u001b[0;34m\u001b[0m\u001b[0m\n\u001b[1;32m    564\u001b[0m                 \u001b[0;32mtry\u001b[0m\u001b[0;34m:\u001b[0m\u001b[0;34m\u001b[0m\u001b[0m\n\u001b[0;32m--> 565\u001b[0;31m                     \u001b[0mresult\u001b[0m \u001b[0;34m=\u001b[0m \u001b[0m_agg\u001b[0m\u001b[0;34m(\u001b[0m\u001b[0marg\u001b[0m\u001b[0;34m,\u001b[0m \u001b[0m_agg_1dim\u001b[0m\u001b[0;34m)\u001b[0m\u001b[0;34m\u001b[0m\u001b[0m\n\u001b[0m\u001b[1;32m    566\u001b[0m                 \u001b[0;32mexcept\u001b[0m \u001b[0mSpecificationError\u001b[0m\u001b[0;34m:\u001b[0m\u001b[0;34m\u001b[0m\u001b[0m\n\u001b[1;32m    567\u001b[0m \u001b[0;34m\u001b[0m\u001b[0m\n",
      "\u001b[0;32m/Users/hubertjenq/anaconda3/lib/python3.6/site-packages/pandas/core/base.py\u001b[0m in \u001b[0;36m_agg\u001b[0;34m(arg, func)\u001b[0m\n\u001b[1;32m    514\u001b[0m                 \u001b[0mresult\u001b[0m \u001b[0;34m=\u001b[0m \u001b[0mcompat\u001b[0m\u001b[0;34m.\u001b[0m\u001b[0mOrderedDict\u001b[0m\u001b[0;34m(\u001b[0m\u001b[0;34m)\u001b[0m\u001b[0;34m\u001b[0m\u001b[0m\n\u001b[1;32m    515\u001b[0m                 \u001b[0;32mfor\u001b[0m \u001b[0mfname\u001b[0m\u001b[0;34m,\u001b[0m \u001b[0magg_how\u001b[0m \u001b[0;32min\u001b[0m \u001b[0mcompat\u001b[0m\u001b[0;34m.\u001b[0m\u001b[0miteritems\u001b[0m\u001b[0;34m(\u001b[0m\u001b[0marg\u001b[0m\u001b[0;34m)\u001b[0m\u001b[0;34m:\u001b[0m\u001b[0;34m\u001b[0m\u001b[0m\n\u001b[0;32m--> 516\u001b[0;31m                     \u001b[0mresult\u001b[0m\u001b[0;34m[\u001b[0m\u001b[0mfname\u001b[0m\u001b[0;34m]\u001b[0m \u001b[0;34m=\u001b[0m \u001b[0mfunc\u001b[0m\u001b[0;34m(\u001b[0m\u001b[0mfname\u001b[0m\u001b[0;34m,\u001b[0m \u001b[0magg_how\u001b[0m\u001b[0;34m)\u001b[0m\u001b[0;34m\u001b[0m\u001b[0m\n\u001b[0m\u001b[1;32m    517\u001b[0m                 \u001b[0;32mreturn\u001b[0m \u001b[0mresult\u001b[0m\u001b[0;34m\u001b[0m\u001b[0m\n\u001b[1;32m    518\u001b[0m \u001b[0;34m\u001b[0m\u001b[0m\n",
      "\u001b[0;32m/Users/hubertjenq/anaconda3/lib/python3.6/site-packages/pandas/core/base.py\u001b[0m in \u001b[0;36m_agg_1dim\u001b[0;34m(name, how, subset)\u001b[0m\n\u001b[1;32m    493\u001b[0m                 \u001b[0maggregate\u001b[0m \u001b[0ma\u001b[0m \u001b[0;36m1\u001b[0m\u001b[0;34m-\u001b[0m\u001b[0mdim\u001b[0m \u001b[0;32mwith\u001b[0m \u001b[0mhow\u001b[0m\u001b[0;34m\u001b[0m\u001b[0m\n\u001b[1;32m    494\u001b[0m                 \"\"\"\n\u001b[0;32m--> 495\u001b[0;31m                 \u001b[0mcolg\u001b[0m \u001b[0;34m=\u001b[0m \u001b[0mself\u001b[0m\u001b[0;34m.\u001b[0m\u001b[0m_gotitem\u001b[0m\u001b[0;34m(\u001b[0m\u001b[0mname\u001b[0m\u001b[0;34m,\u001b[0m \u001b[0mndim\u001b[0m\u001b[0;34m=\u001b[0m\u001b[0;36m1\u001b[0m\u001b[0;34m,\u001b[0m \u001b[0msubset\u001b[0m\u001b[0;34m=\u001b[0m\u001b[0msubset\u001b[0m\u001b[0;34m)\u001b[0m\u001b[0;34m\u001b[0m\u001b[0m\n\u001b[0m\u001b[1;32m    496\u001b[0m                 \u001b[0;32mif\u001b[0m \u001b[0mcolg\u001b[0m\u001b[0;34m.\u001b[0m\u001b[0mndim\u001b[0m \u001b[0;34m!=\u001b[0m \u001b[0;36m1\u001b[0m\u001b[0;34m:\u001b[0m\u001b[0;34m\u001b[0m\u001b[0m\n\u001b[1;32m    497\u001b[0m                     raise SpecificationError(\"nested dictionary is ambiguous \"\n",
      "\u001b[0;32m/Users/hubertjenq/anaconda3/lib/python3.6/site-packages/pandas/core/groupby.py\u001b[0m in \u001b[0;36m_gotitem\u001b[0;34m(self, key, ndim, subset)\u001b[0m\n\u001b[1;32m   3986\u001b[0m         \u001b[0;32melif\u001b[0m \u001b[0mndim\u001b[0m \u001b[0;34m==\u001b[0m \u001b[0;36m1\u001b[0m\u001b[0;34m:\u001b[0m\u001b[0;34m\u001b[0m\u001b[0m\n\u001b[1;32m   3987\u001b[0m             \u001b[0;32mif\u001b[0m \u001b[0msubset\u001b[0m \u001b[0;32mis\u001b[0m \u001b[0;32mNone\u001b[0m\u001b[0;34m:\u001b[0m\u001b[0;34m\u001b[0m\u001b[0m\n\u001b[0;32m-> 3988\u001b[0;31m                 \u001b[0msubset\u001b[0m \u001b[0;34m=\u001b[0m \u001b[0mself\u001b[0m\u001b[0;34m.\u001b[0m\u001b[0mobj\u001b[0m\u001b[0;34m[\u001b[0m\u001b[0mkey\u001b[0m\u001b[0;34m]\u001b[0m\u001b[0;34m\u001b[0m\u001b[0m\n\u001b[0m\u001b[1;32m   3989\u001b[0m             return SeriesGroupBy(subset, selection=key,\n\u001b[1;32m   3990\u001b[0m                                  grouper=self.grouper)\n",
      "\u001b[0;32m/Users/hubertjenq/anaconda3/lib/python3.6/site-packages/pandas/core/frame.py\u001b[0m in \u001b[0;36m__getitem__\u001b[0;34m(self, key)\u001b[0m\n\u001b[1;32m   2060\u001b[0m             \u001b[0;32mreturn\u001b[0m \u001b[0mself\u001b[0m\u001b[0;34m.\u001b[0m\u001b[0m_getitem_multilevel\u001b[0m\u001b[0;34m(\u001b[0m\u001b[0mkey\u001b[0m\u001b[0;34m)\u001b[0m\u001b[0;34m\u001b[0m\u001b[0m\n\u001b[1;32m   2061\u001b[0m         \u001b[0;32melse\u001b[0m\u001b[0;34m:\u001b[0m\u001b[0;34m\u001b[0m\u001b[0m\n\u001b[0;32m-> 2062\u001b[0;31m             \u001b[0;32mreturn\u001b[0m \u001b[0mself\u001b[0m\u001b[0;34m.\u001b[0m\u001b[0m_getitem_column\u001b[0m\u001b[0;34m(\u001b[0m\u001b[0mkey\u001b[0m\u001b[0;34m)\u001b[0m\u001b[0;34m\u001b[0m\u001b[0m\n\u001b[0m\u001b[1;32m   2063\u001b[0m \u001b[0;34m\u001b[0m\u001b[0m\n\u001b[1;32m   2064\u001b[0m     \u001b[0;32mdef\u001b[0m \u001b[0m_getitem_column\u001b[0m\u001b[0;34m(\u001b[0m\u001b[0mself\u001b[0m\u001b[0;34m,\u001b[0m \u001b[0mkey\u001b[0m\u001b[0;34m)\u001b[0m\u001b[0;34m:\u001b[0m\u001b[0;34m\u001b[0m\u001b[0m\n",
      "\u001b[0;32m/Users/hubertjenq/anaconda3/lib/python3.6/site-packages/pandas/core/frame.py\u001b[0m in \u001b[0;36m_getitem_column\u001b[0;34m(self, key)\u001b[0m\n\u001b[1;32m   2067\u001b[0m         \u001b[0;31m# get column\u001b[0m\u001b[0;34m\u001b[0m\u001b[0;34m\u001b[0m\u001b[0m\n\u001b[1;32m   2068\u001b[0m         \u001b[0;32mif\u001b[0m \u001b[0mself\u001b[0m\u001b[0;34m.\u001b[0m\u001b[0mcolumns\u001b[0m\u001b[0;34m.\u001b[0m\u001b[0mis_unique\u001b[0m\u001b[0;34m:\u001b[0m\u001b[0;34m\u001b[0m\u001b[0m\n\u001b[0;32m-> 2069\u001b[0;31m             \u001b[0;32mreturn\u001b[0m \u001b[0mself\u001b[0m\u001b[0;34m.\u001b[0m\u001b[0m_get_item_cache\u001b[0m\u001b[0;34m(\u001b[0m\u001b[0mkey\u001b[0m\u001b[0;34m)\u001b[0m\u001b[0;34m\u001b[0m\u001b[0m\n\u001b[0m\u001b[1;32m   2070\u001b[0m \u001b[0;34m\u001b[0m\u001b[0m\n\u001b[1;32m   2071\u001b[0m         \u001b[0;31m# duplicate columns & possible reduce dimensionality\u001b[0m\u001b[0;34m\u001b[0m\u001b[0;34m\u001b[0m\u001b[0m\n",
      "\u001b[0;32m/Users/hubertjenq/anaconda3/lib/python3.6/site-packages/pandas/core/generic.py\u001b[0m in \u001b[0;36m_get_item_cache\u001b[0;34m(self, item)\u001b[0m\n\u001b[1;32m   1532\u001b[0m         \u001b[0mres\u001b[0m \u001b[0;34m=\u001b[0m \u001b[0mcache\u001b[0m\u001b[0;34m.\u001b[0m\u001b[0mget\u001b[0m\u001b[0;34m(\u001b[0m\u001b[0mitem\u001b[0m\u001b[0;34m)\u001b[0m\u001b[0;34m\u001b[0m\u001b[0m\n\u001b[1;32m   1533\u001b[0m         \u001b[0;32mif\u001b[0m \u001b[0mres\u001b[0m \u001b[0;32mis\u001b[0m \u001b[0;32mNone\u001b[0m\u001b[0;34m:\u001b[0m\u001b[0;34m\u001b[0m\u001b[0m\n\u001b[0;32m-> 1534\u001b[0;31m             \u001b[0mvalues\u001b[0m \u001b[0;34m=\u001b[0m \u001b[0mself\u001b[0m\u001b[0;34m.\u001b[0m\u001b[0m_data\u001b[0m\u001b[0;34m.\u001b[0m\u001b[0mget\u001b[0m\u001b[0;34m(\u001b[0m\u001b[0mitem\u001b[0m\u001b[0;34m)\u001b[0m\u001b[0;34m\u001b[0m\u001b[0m\n\u001b[0m\u001b[1;32m   1535\u001b[0m             \u001b[0mres\u001b[0m \u001b[0;34m=\u001b[0m \u001b[0mself\u001b[0m\u001b[0;34m.\u001b[0m\u001b[0m_box_item_values\u001b[0m\u001b[0;34m(\u001b[0m\u001b[0mitem\u001b[0m\u001b[0;34m,\u001b[0m \u001b[0mvalues\u001b[0m\u001b[0;34m)\u001b[0m\u001b[0;34m\u001b[0m\u001b[0m\n\u001b[1;32m   1536\u001b[0m             \u001b[0mcache\u001b[0m\u001b[0;34m[\u001b[0m\u001b[0mitem\u001b[0m\u001b[0;34m]\u001b[0m \u001b[0;34m=\u001b[0m \u001b[0mres\u001b[0m\u001b[0;34m\u001b[0m\u001b[0m\n",
      "\u001b[0;32m/Users/hubertjenq/anaconda3/lib/python3.6/site-packages/pandas/core/internals.py\u001b[0m in \u001b[0;36mget\u001b[0;34m(self, item, fastpath)\u001b[0m\n\u001b[1;32m   3588\u001b[0m \u001b[0;34m\u001b[0m\u001b[0m\n\u001b[1;32m   3589\u001b[0m             \u001b[0;32mif\u001b[0m \u001b[0;32mnot\u001b[0m \u001b[0misnull\u001b[0m\u001b[0;34m(\u001b[0m\u001b[0mitem\u001b[0m\u001b[0;34m)\u001b[0m\u001b[0;34m:\u001b[0m\u001b[0;34m\u001b[0m\u001b[0m\n\u001b[0;32m-> 3590\u001b[0;31m                 \u001b[0mloc\u001b[0m \u001b[0;34m=\u001b[0m \u001b[0mself\u001b[0m\u001b[0;34m.\u001b[0m\u001b[0mitems\u001b[0m\u001b[0;34m.\u001b[0m\u001b[0mget_loc\u001b[0m\u001b[0;34m(\u001b[0m\u001b[0mitem\u001b[0m\u001b[0;34m)\u001b[0m\u001b[0;34m\u001b[0m\u001b[0m\n\u001b[0m\u001b[1;32m   3591\u001b[0m             \u001b[0;32melse\u001b[0m\u001b[0;34m:\u001b[0m\u001b[0;34m\u001b[0m\u001b[0m\n\u001b[1;32m   3592\u001b[0m                 \u001b[0mindexer\u001b[0m \u001b[0;34m=\u001b[0m \u001b[0mnp\u001b[0m\u001b[0;34m.\u001b[0m\u001b[0marange\u001b[0m\u001b[0;34m(\u001b[0m\u001b[0mlen\u001b[0m\u001b[0;34m(\u001b[0m\u001b[0mself\u001b[0m\u001b[0;34m.\u001b[0m\u001b[0mitems\u001b[0m\u001b[0;34m)\u001b[0m\u001b[0;34m)\u001b[0m\u001b[0;34m[\u001b[0m\u001b[0misnull\u001b[0m\u001b[0;34m(\u001b[0m\u001b[0mself\u001b[0m\u001b[0;34m.\u001b[0m\u001b[0mitems\u001b[0m\u001b[0;34m)\u001b[0m\u001b[0;34m]\u001b[0m\u001b[0;34m\u001b[0m\u001b[0m\n",
      "\u001b[0;32m/Users/hubertjenq/anaconda3/lib/python3.6/site-packages/pandas/core/indexes/base.py\u001b[0m in \u001b[0;36mget_loc\u001b[0;34m(self, key, method, tolerance)\u001b[0m\n\u001b[1;32m   2393\u001b[0m                 \u001b[0;32mreturn\u001b[0m \u001b[0mself\u001b[0m\u001b[0;34m.\u001b[0m\u001b[0m_engine\u001b[0m\u001b[0;34m.\u001b[0m\u001b[0mget_loc\u001b[0m\u001b[0;34m(\u001b[0m\u001b[0mkey\u001b[0m\u001b[0;34m)\u001b[0m\u001b[0;34m\u001b[0m\u001b[0m\n\u001b[1;32m   2394\u001b[0m             \u001b[0;32mexcept\u001b[0m \u001b[0mKeyError\u001b[0m\u001b[0;34m:\u001b[0m\u001b[0;34m\u001b[0m\u001b[0m\n\u001b[0;32m-> 2395\u001b[0;31m                 \u001b[0;32mreturn\u001b[0m \u001b[0mself\u001b[0m\u001b[0;34m.\u001b[0m\u001b[0m_engine\u001b[0m\u001b[0;34m.\u001b[0m\u001b[0mget_loc\u001b[0m\u001b[0;34m(\u001b[0m\u001b[0mself\u001b[0m\u001b[0;34m.\u001b[0m\u001b[0m_maybe_cast_indexer\u001b[0m\u001b[0;34m(\u001b[0m\u001b[0mkey\u001b[0m\u001b[0;34m)\u001b[0m\u001b[0;34m)\u001b[0m\u001b[0;34m\u001b[0m\u001b[0m\n\u001b[0m\u001b[1;32m   2396\u001b[0m \u001b[0;34m\u001b[0m\u001b[0m\n\u001b[1;32m   2397\u001b[0m         \u001b[0mindexer\u001b[0m \u001b[0;34m=\u001b[0m \u001b[0mself\u001b[0m\u001b[0;34m.\u001b[0m\u001b[0mget_indexer\u001b[0m\u001b[0;34m(\u001b[0m\u001b[0;34m[\u001b[0m\u001b[0mkey\u001b[0m\u001b[0;34m]\u001b[0m\u001b[0;34m,\u001b[0m \u001b[0mmethod\u001b[0m\u001b[0;34m=\u001b[0m\u001b[0mmethod\u001b[0m\u001b[0;34m,\u001b[0m \u001b[0mtolerance\u001b[0m\u001b[0;34m=\u001b[0m\u001b[0mtolerance\u001b[0m\u001b[0;34m)\u001b[0m\u001b[0;34m\u001b[0m\u001b[0m\n",
      "\u001b[0;32mpandas/_libs/index.pyx\u001b[0m in \u001b[0;36mpandas._libs.index.IndexEngine.get_loc (pandas/_libs/index.c:5239)\u001b[0;34m()\u001b[0m\n",
      "\u001b[0;32mpandas/_libs/index.pyx\u001b[0m in \u001b[0;36mpandas._libs.index.IndexEngine.get_loc (pandas/_libs/index.c:5085)\u001b[0;34m()\u001b[0m\n",
      "\u001b[0;32mpandas/_libs/hashtable_class_helper.pxi\u001b[0m in \u001b[0;36mpandas._libs.hashtable.PyObjectHashTable.get_item (pandas/_libs/hashtable.c:20405)\u001b[0;34m()\u001b[0m\n",
      "\u001b[0;32mpandas/_libs/hashtable_class_helper.pxi\u001b[0m in \u001b[0;36mpandas._libs.hashtable.PyObjectHashTable.get_item (pandas/_libs/hashtable.c:20359)\u001b[0;34m()\u001b[0m\n",
      "\u001b[0;31mKeyError\u001b[0m: 'price_doc'"
     ]
    },
    {
     "data": {
      "text/plain": [
       "<matplotlib.figure.Figure at 0x115b136a0>"
      ]
     },
     "metadata": {},
     "output_type": "display_data"
    }
   ],
   "source": [
    "plt.figure(figsize=(12,8))\n",
    "FloorPricedf=train_df.groupby('num_room').agg({'price_doc':'median'}).reset_index()\n",
    "sns.pointplot(FloorPricedf['floor'],FloorPricedf['price_doc'],color=color[0])\n",
    "plt.xticks(rotation='vertical')\n",
    "plt.ylabel('Median Price')\n",
    "plt.title('Median Price by Floor', fontsize=20)\n",
    "plt.savefig('pricebyfloor.png',dpi=300)\n"
   ]
  },
  {
   "cell_type": "code",
   "execution_count": 31,
   "metadata": {
    "hideCode": false,
    "hidePrompt": false
   },
   "outputs": [
    {
     "data": {
      "image/png": "[encoded data removed]",
      "text/plain": [
       "<matplotlib.figure.Figure at 0x115ae13c8>"
      ]
     },
     "metadata": {},
     "output_type": "display_data"
    }
   ],
   "source": [
    "g=plt.figure()\n",
    "sns.boxplot(plot_x['build_year'],train_logprice)\n",
    "plt.title('House Price vs. Build Year',size=18)\n",
    "plt.ylabel('Log-Ruble')\n",
    "plt.xticks(rotation='vertical')\n",
    "plt.tight_layout()\n",
    "plt.tick_params(axis='x', which='major', labelsize=5.25)\n",
    "plt.savefig('pricebybuildyear.png',dpi=300)\n"
   ]
  },
  {
   "cell_type": "code",
   "execution_count": 32,
   "metadata": {
    "hideCode": false,
    "hidePrompt": false
   },
   "outputs": [
    {
     "data": {
      "image/png": "[encoded data removed]",
      "text/plain": [
       "<matplotlib.figure.Figure at 0x118e83f60>"
      ]
     },
     "metadata": {},
     "output_type": "display_data"
    }
   ],
   "source": [
    "g=plt.figure()\n",
    "sns.boxplot(plot_x['yearmonth'],np.exp(train_logprice)-1)\n",
    "plt.title('House Price vs. Year-month Sold',size=18)\n",
    "plt.ylabel('Ruble')\n",
    "plt.xticks(rotation='vertical')\n",
    "plt.tight_layout()\n",
    "plt.tick_params(axis='x', which='major', labelsize=5.25)\n",
    "plt.savefig('pricebyyearmonth.png',dpi=300)\n"
   ]
  },
  {
   "cell_type": "code",
   "execution_count": 33,
   "metadata": {
    "hideCode": false,
    "hidePrompt": false
   },
   "outputs": [],
   "source": [
    "#for col in plot_x.columns:\n",
    "#    if plot_x[col].dtype=='float64' or plot_x[col].dtype=='int64':\n",
    "#        xyscatter(plot_x[col],train_logprice)"
   ]
  },
  {
   "cell_type": "code",
   "execution_count": 34,
   "metadata": {
    "hideCode": false,
    "hidePrompt": false,
    "scrolled": true
   },
   "outputs": [
    {
     "data": {
      "image/png": "[encoded data removed]",
      "text/plain": [
       "<matplotlib.figure.Figure at 0x115b131d0>"
      ]
     },
     "metadata": {},
     "output_type": "display_data"
    }
   ],
   "source": [
    "xyscatter(plot_x['numdays'],train_logprice)"
   ]
  },
  {
   "cell_type": "code",
   "execution_count": 35,
   "metadata": {
    "hideCode": false,
    "hidePrompt": false
   },
   "outputs": [
    {
     "ename": "NameError",
     "evalue": "name 'train_x_imputed' is not defined",
     "output_type": "error",
     "traceback": [
      "\u001b[0;31m---------------------------------------------------------------------------\u001b[0m",
      "\u001b[0;31mNameError\u001b[0m                                 Traceback (most recent call last)",
      "\u001b[0;32m<ipython-input-35-f96f455f6d19>\u001b[0m in \u001b[0;36m<module>\u001b[0;34m()\u001b[0m\n\u001b[1;32m      2\u001b[0m \u001b[0mpca\u001b[0m \u001b[0;34m=\u001b[0m \u001b[0mPCA\u001b[0m\u001b[0;34m(\u001b[0m\u001b[0mn_components\u001b[0m\u001b[0;34m=\u001b[0m\u001b[0;36m50\u001b[0m\u001b[0;34m)\u001b[0m\u001b[0;34m\u001b[0m\u001b[0m\n\u001b[1;32m      3\u001b[0m \u001b[0;34m\u001b[0m\u001b[0m\n\u001b[0;32m----> 4\u001b[0;31m \u001b[0mpca\u001b[0m\u001b[0;34m.\u001b[0m\u001b[0mfit\u001b[0m\u001b[0;34m(\u001b[0m\u001b[0mtrain_x_imputed\u001b[0m\u001b[0;34m)\u001b[0m\u001b[0;34m\u001b[0m\u001b[0m\n\u001b[0m\u001b[1;32m      5\u001b[0m \u001b[0mPCAtransX\u001b[0m\u001b[0;34m=\u001b[0m\u001b[0mpca\u001b[0m\u001b[0;34m.\u001b[0m\u001b[0mfit_transform\u001b[0m\u001b[0;34m(\u001b[0m\u001b[0mtrain_x_imputed\u001b[0m\u001b[0;34m)\u001b[0m\u001b[0;34m\u001b[0m\u001b[0m\n\u001b[1;32m      6\u001b[0m \u001b[0;34m\u001b[0m\u001b[0m\n",
      "\u001b[0;31mNameError\u001b[0m: name 'train_x_imputed' is not defined"
     ]
    }
   ],
   "source": [
    "#PCA\n",
    "pca = PCA(n_components=50)\n",
    "\n",
    "pca.fit(train_x_imputed)\n",
    "PCAtransX=pca.fit_transform(train_x_imputed)\n",
    "\n",
    "\n",
    "var= pca.explained_variance_ratio_"
   ]
  },
  {
   "cell_type": "code",
   "execution_count": null,
   "metadata": {
    "collapsed": true,
    "hideCode": false,
    "hidePrompt": false
   },
   "outputs": [],
   "source": [
    "var1=np.cumsum(np.round(pca.explained_variance_ratio_, decimals=4)*100)\n",
    "plt.plot(var1)"
   ]
  },
  {
   "cell_type": "markdown",
   "metadata": {
    "hideCode": false,
    "hidePrompt": false
   },
   "source": [
    "## Linear Regression Model (LASSO)"
   ]
  },
  {
   "cell_type": "code",
   "execution_count": null,
   "metadata": {
    "collapsed": true,
    "hideCode": false,
    "hidePrompt": false
   },
   "outputs": [],
   "source": [
    "#Choose variables for the linear model\n",
    "lassovarb=['full_sq','num_room','ttk_km','sadovoe_km','nuclear_reactor_km','kitchenpercentage','numdays','gdp_annual_growth','cpi']\n",
    "regularized_x = trainmod_x_knnimputed"
   ]
  },
  {
   "cell_type": "code",
   "execution_count": null,
   "metadata": {
    "hideCode": false,
    "hidePrompt": false,
    "scrolled": true
   },
   "outputs": [],
   "source": [
    "#KNN imputed values\n",
    "LASSOknnmodel =LassoCV(normalize=True,max_iter=1e5,cv=5)\n",
    "LASSOknnmodel.fit(trainmod_x_knnimputed,trainmod_y)\n",
    "LASSOknnvalpred=LASSOknnmodel.predict(val_x_knnimputed)\n",
    "LASSOknntrainpred=LASSOknnmodel.predict(trainmod_x_knnimputed)\n",
    "LASSOknnvalerror=np.sqrt(sklm.mean_squared_error(LASSOknnvalpred,val_y))\n",
    "LASSOknntrainerror=np.sqrt(sklm.mean_squared_error(LASSOknntrainpred,trainmod_y))\n",
    "\n",
    "print('valerror=',LASSOknnvalerror,'trainerror=',LASSOknntrainerror)"
   ]
  },
  {
   "cell_type": "code",
   "execution_count": null,
   "metadata": {
    "hideCode": false,
    "hidePrompt": false
   },
   "outputs": [],
   "source": [
    "#Median imputed values\n",
    "LASSOmedmodel =LassoCV(normalize=True,max_iter=1e5,cv=5)\n",
    "LASSOmedmodel.fit(trainmod_x_medianimputed,trainmod_y)\n",
    "LASSOmedvalpred=LASSOmedmodel.predict(val_x_medianimputed)\n",
    "LASSOmedtrainpred=LASSOmedmodel.predict(trainmod_x_medianimputed)\n",
    "LASSOmedvalerror=np.sqrt(sklm.mean_squared_error(LASSOmedvalpred,val_y))\n",
    "LASSOmedtrainerror=np.sqrt(sklm.mean_squared_error(LASSOmedtrainpred,trainmod_y))\n",
    "\n",
    "print('valerror=',LASSOmedvalerror,'trainerror=',LASSOmedtrainerror)"
   ]
  },
  {
   "cell_type": "code",
   "execution_count": null,
   "metadata": {
    "hideCode": false,
    "hidePrompt": false
   },
   "outputs": [],
   "source": [
    "LASSOknnmodel.alpha_"
   ]
  },
  {
   "cell_type": "markdown",
   "metadata": {
    "hideCode": false,
    "hidePrompt": false
   },
   "source": [
    "## Ridge Regression Model"
   ]
  },
  {
   "cell_type": "code",
   "execution_count": null,
   "metadata": {
    "hideCode": false,
    "hideOutput": false,
    "hidePrompt": false,
    "scrolled": true
   },
   "outputs": [],
   "source": [
    "Ridgeknnmodel=RidgeCV(normalize=True,alphas=np.linspace(.000001,.1,100))\n",
    "Ridgeknnmodel.fit(trainmod_x_knnimputed,trainmod_y)\n",
    "Ridgeknnvalpred=Ridgeknnmodel.predict(val_x_knnimputed)\n",
    "Ridgeknntrainpred=Ridgeknnmodel.predict(trainmod_x_knnimputed)\n",
    "Ridgeknntestpred=Ridgeknnmodel.predict(test_x_knnimputed)\n",
    "Ridgeknnvalerror=np.sqrt(sklm.mean_squared_error(Ridgeknnvalpred,val_y))\n",
    "Ridgeknntrainerror=np.sqrt(sklm.mean_squared_error(Ridgeknntrainpred,trainmod_y))\n",
    "print('valerror=',Ridgeknnvalerror,'trainerror=',Ridgeknntrainerror,Ridgeknnmodel.alpha_)\n",
    "\n",
    "Ridgemedmodel=RidgeCV(normalize=True,alphas=np.linspace(.000001,.1,100))\n",
    "Ridgemedmodel.fit(trainmod_x_medianimputed,trainmod_y)\n",
    "Ridgemedvalpred=Ridgemedmodel.predict(val_x_medianimputed)\n",
    "Ridgemedtrainpred=Ridgemedmodel.predict(trainmod_x_medianimputed)\n",
    "Ridgemedtestpred=Ridgemedmodel.predict(test_x_medianimputed)\n",
    "Ridgemedtrainerror=np.sqrt(sklm.mean_squared_error(Ridgemedtrainpred,trainmod_y))\n",
    "Ridgemedvalerror=np.sqrt(sklm.mean_squared_error(Ridgemedvalpred,val_y))\n",
    "print('valerror=',Ridgemedvalerror,'trainerror=',Ridgemedtrainerror,Ridgemedmodel.alpha_)\n"
   ]
  },
  {
   "cell_type": "code",
   "execution_count": null,
   "metadata": {
    "hideCode": false,
    "hidePrompt": false
   },
   "outputs": [],
   "source": [
    "pd.DataFrame(np.stack((np.absolute(Ridgemedmodel.coef_),colnames),axis=1)).sort_values(0,ascending=False)"
   ]
  },
  {
   "cell_type": "markdown",
   "metadata": {
    "hideCode": false,
    "hidePrompt": false
   },
   "source": [
    "## Elastic Net Model"
   ]
  },
  {
   "cell_type": "code",
   "execution_count": null,
   "metadata": {
    "collapsed": true,
    "hideCode": false,
    "hidePrompt": false
   },
   "outputs": [],
   "source": [
    "ElasticNetmodel=ElasticNetCV(normalize=True,max_iter=1e5)\n",
    "ElasticNetmodel.fit(trainmod_x_knnimputed,trainmod_y)\n",
    "ElasticNetpred=ElasticNetmodel.predict(val_x_knnimputed)\n",
    "ElasticNetvalerror=np.sqrt(sklm.mean_squared_error(ElasticNetpred,val_y))\n",
    "ElasticNetvalerror"
   ]
  },
  {
   "cell_type": "code",
   "execution_count": null,
   "metadata": {
    "collapsed": true,
    "hideCode": false,
    "hidePrompt": false
   },
   "outputs": [],
   "source": [
    "ElasticNetmedmodel=ElasticNetCV(normalize=True,max_iter=1e5)\n",
    "ElasticNetmedmodel.fit(trainmod_x_medianimputed,trainmod_y)\n",
    "ElasticNetmedpred=ElasticNetmedmodel.predict(val_x_medianimputed)\n",
    "ElasticNetmedvalerror=np.sqrt(sklm.mean_squared_error(ElasticNetmedpred,val_y))\n",
    "ElasticNetmedvalerror"
   ]
  },
  {
   "cell_type": "code",
   "execution_count": null,
   "metadata": {
    "hideCode": false,
    "hidePrompt": false
   },
   "outputs": [],
   "source": [
    "Linearmodel=LinearRegression()\n",
    "Linearmodel.fit(trainmod_x_knnimputed,trainmod_y)\n",
    "LMvalpred=Linearmodel.predict(val_x_knnimputed)\n",
    "LMtrainpred=Linearmodel.predict(trainmod_x_knnimputed)\n",
    "LMvalerror=np.sqrt(sklm.mean_squared_error(LMvalpred,val_y))\n",
    "LMtrainerror=np.sqrt(sklm.mean_squared_error(LMtrainpred,trainmod_y))\n",
    "print('valerror',LMvalerror,'trianerror ',LMtrainerror)"
   ]
  },
  {
   "cell_type": "code",
   "execution_count": null,
   "metadata": {
    "hideCode": false,
    "hidePrompt": false
   },
   "outputs": [],
   "source": [
    "Linearmedmodel=LinearRegression()\n",
    "Linearmedmodel.fit(trainmod_x_medianimputed,trainmod_y)\n",
    "LMmedvalpred=Linearmedmodel.predict(val_x_medianimputed)\n",
    "LMmedtrainpred=Linearmedmodel.predict(trainmod_x_medianimputed)\n",
    "\n",
    "LMmedvalerror=np.sqrt(sklm.mean_squared_error(LMmedvalpred,val_y))\n",
    "LMmedtrainerror=np.sqrt(sklm.mean_squared_error(LMmedtrainpred,trainmod_y))\n",
    "print('valerror',LMmedvalerror,'trianerror ',LMmedtrainerror)"
   ]
  },
  {
   "cell_type": "markdown",
   "metadata": {
    "hideCode": false,
    "hidePrompt": false
   },
   "source": [
    "## Random Forest Model"
   ]
  },
  {
   "cell_type": "code",
   "execution_count": null,
   "metadata": {
    "hideCode": false,
    "hidePrompt": false
   },
   "outputs": [],
   "source": [
    "#find how many trees needed to stabilize validation error\n",
    "rfnumtreeerror=[]\n",
    "rfnumtreetrainerror=[]\n",
    "    \n",
    "RFmodel = RandomForestRegressor(max_features=.33,min_samples_leaf=5,max_depth=8,n_jobs=7)\n",
    "\n",
    "for i in range(1,200,5):\n",
    "    RFmodel.set_params(n_estimators=i)\n",
    "    RFmodel.fit(trainmod_x_knnimputed, trainmod_y)\n",
    "    error=np.sqrt(sklm.mean_squared_error(RFmodel.predict(val_x_knnimputed),val_y))\n",
    "    trainerror=np.sqrt(sklm.mean_squared_error(RFmodel.predict(trainmod_x_knnimputed),trainmod_y))\n",
    "\n",
    "    print(i)\n",
    "    rfnumtreeerror.append(error)\n",
    "    rfnumtreetrainerror.append(trainerror)\n"
   ]
  },
  {
   "cell_type": "code",
   "execution_count": null,
   "metadata": {
    "hideCode": false,
    "hidePrompt": false
   },
   "outputs": [],
   "source": [
    "plt.plot(rfnumtreeerror)\n",
    "plt.xlabel(\"Number of Trees\")\n",
    "plt.ylabel(\"Validation Error\")\n",
    "plt.title(\"Number of Trees in RF vs. Validation Error\",size=18)\n",
    "plt.savefig(\"numtreevsval\",dpi=300)"
   ]
  },
  {
   "cell_type": "code",
   "execution_count": null,
   "metadata": {
    "hideCode": false,
    "hidePrompt": false
   },
   "outputs": [],
   "source": [
    "RFmodel = RandomForestRegressor(n_estimators=60,oob_score=True,max_features=.33,min_samples_leaf=5,max_depth=8,n_jobs=7)\n",
    "RFmodel.fit(trainmod_x_knnimputed, trainmod_y)\n",
    "RFvalpred=RFmodel.predict(val_x_knnimputed)\n",
    "RFtrainpred=RFmodel.predict(trainmod_x_knnimputed)\n",
    "RFtestpred=RFmodel.predict(test_x_knnimputed)\n",
    "\n",
    "RFvalerror=np.sqrt(sklm.mean_squared_error(RFvalpred,val_y))\n",
    "RFtrainerror=np.sqrt(sklm.mean_squared_error(RFtrainpred,trainmod_y))\n",
    "print('val errror ', RFvalerror, 'train error ', RFtrainerror)"
   ]
  },
  {
   "cell_type": "code",
   "execution_count": null,
   "metadata": {
    "hideCode": false,
    "hidePrompt": false
   },
   "outputs": [],
   "source": [
    "RFmedmodel = RandomForestRegressor(n_estimators=50,oob_score=True,max_features=.33,min_samples_leaf=5,max_depth=8,n_jobs=7)\n",
    "RFmedmodel.fit(trainmod_x_medianimputed, trainmod_y)\n",
    "RFmedvalpred=RFmedmodel.predict(val_x_medianimputed)\n",
    "RFmedtrainpred=RFmedmodel.predict(trainmod_x_medianimputed)\n",
    "\n",
    "RFmedvalerror=np.sqrt(sklm.mean_squared_error(RFmedvalpred,val_y))\n",
    "RFmedtrainerror=np.sqrt(sklm.mean_squared_error(RFmedtrainpred,trainmod_y))\n",
    "print('val errror ', RFmedvalerror, 'train error ', RFmedtrainerror)\n",
    "\n"
   ]
  },
  {
   "cell_type": "code",
   "execution_count": null,
   "metadata": {
    "hideCode": false,
    "hidePrompt": false
   },
   "outputs": [],
   "source": [
    "RFvarimp=pd.DataFrame(np.stack((test_x_knnimputed.columns,RFmedmodel.feature_importances_),axis=1)).sort_values(1,ascending=False)\n",
    "\n",
    "fig=plt.figure()\n",
    "numfeatures=25\n",
    "sns.barplot(RFvarimp.iloc[:,1][0:numfeatures],RFvarimp.iloc[:,0][0:numfeatures],color=color[0])\n",
    "plt.xlabel('Feature Importance')\n",
    "plt.ylabel('')\n",
    "plt.title('Random Forest Feature Importance',size=18)\n",
    "plt.tight_layout()\n",
    "plt.savefig('RFfeatimp.png',dpi=300)\n",
    "plt.show()"
   ]
  },
  {
   "cell_type": "code",
   "execution_count": null,
   "metadata": {
    "collapsed": true,
    "hideCode": false,
    "hidePrompt": false
   },
   "outputs": [],
   "source": [
    "y_log_pred_rf = RFmodel.predict(test_x_imputed)\n",
    "y_pred_rf = np.exp(y_log_pred_rf) - 1\n",
    "\n",
    "RFsub = pd.DataFrame({'id': test_id, 'price_doc': y_pred_rf})\n",
    "RFsub.to_csv('RFsub.csv', index=False)"
   ]
  },
  {
   "cell_type": "markdown",
   "metadata": {
    "hideCode": false,
    "hidePrompt": false
   },
   "source": [
    "## XGBoost Model"
   ]
  },
  {
   "cell_type": "code",
   "execution_count": null,
   "metadata": {
    "collapsed": true,
    "hideCode": false,
    "hidePrompt": false
   },
   "outputs": [],
   "source": [
    "#transformer = ReduceVIF()\n",
    "# Only use 10 columns for speed in this example\n",
    "#ReducedX = transformer.fit_transform(XforVIF[XforVIF.columns[:]], val_y)\n",
    "\n",
    "#ReducedX.head()\n",
    "\n",
    "\n",
    "#ReducedX.to_csv('VIFx.csv', index=False)"
   ]
  },
  {
   "cell_type": "code",
   "execution_count": 36,
   "metadata": {
    "collapsed": true,
    "hideCode": false,
    "hidePrompt": false
   },
   "outputs": [],
   "source": [
    "xgbfulltrain=xgb.DMatrix(train_x,train_logprice,feature_names=colnames)\n",
    "xgbtrain=xgb.DMatrix(trainmod_x,trainmod_y,feature_names=colnames)\n",
    "xgbval=xgb.DMatrix(val_x,val_y,feature_names=colnames)\n",
    "xgbtest=xgb.DMatrix(test_x,feature_names=colnames)"
   ]
  },
  {
   "cell_type": "code",
   "execution_count": 37,
   "metadata": {
    "hideCode": false,
    "hidePrompt": false
   },
   "outputs": [
    {
     "name": "stdout",
     "output_type": "stream",
     "text": [
      "[0]\teval-rmse:14.4288\n",
      "Will train until eval-rmse hasn't improved in 20 rounds.\n",
      "[20]\teval-rmse:5.18682\n",
      "[40]\teval-rmse:1.88845\n",
      "[60]\teval-rmse:0.743709\n",
      "[80]\teval-rmse:0.400973\n",
      "[100]\teval-rmse:0.328857\n",
      "[120]\teval-rmse:0.316843\n",
      "[140]\teval-rmse:0.314442\n",
      "[160]\teval-rmse:0.313074\n",
      "[180]\teval-rmse:0.312412\n",
      "[200]\teval-rmse:0.311935\n",
      "[220]\teval-rmse:0.311581\n",
      "[240]\teval-rmse:0.311378\n",
      "[260]\teval-rmse:0.311206\n",
      "[280]\teval-rmse:0.311011\n",
      "[300]\teval-rmse:0.310965\n",
      "Stopping. Best iteration:\n",
      "[295]\teval-rmse:0.31088\n",
      "\n"
     ]
    }
   ],
   "source": [
    "xgb_params = {\n",
    "    'eta': 0.05,\n",
    "    'max_depth': 5,\n",
    "    'subsample': 1,\n",
    "    'colsample_bytree': 0.7,\n",
    "    'objective': 'reg:linear',\n",
    "    'eval_metric': 'rmse',\n",
    "    'silent': 1\n",
    "}\n",
    "\n",
    "result={}\n",
    "\n",
    "partial_model = xgb.train(xgb_params, xgbtrain, num_boost_round=1000 ,evals_result=result ,evals=[(xgbval, 'eval')],early_stopping_rounds=20, verbose_eval=20)\n",
    "XGBvalpred = partial_model.predict(xgbval)\n",
    "num_boost_round = partial_model.best_iteration"
   ]
  },
  {
   "cell_type": "code",
   "execution_count": 38,
   "metadata": {
    "hideCode": false,
    "hidePrompt": false
   },
   "outputs": [
    {
     "data": {
      "image/png": "[encoded data removed]",
      "text/plain": [
       "<matplotlib.figure.Figure at 0x118ee3320>"
      ]
     },
     "metadata": {},
     "output_type": "display_data"
    }
   ],
   "source": [
    "plt.plot(result['eval']['rmse'])\n",
    "plt.xlabel(\"Number of Trees\")\n",
    "plt.ylabel(\"Validation Error\")\n",
    "plt.title(\"Number of Trees in XGB vs. Validation Error\",size=18)\n",
    "plt.savefig(\"numtreeXGB\",dpi=300)"
   ]
  },
  {
   "cell_type": "code",
   "execution_count": 39,
   "metadata": {
    "hideCode": false,
    "hidePrompt": false
   },
   "outputs": [
    {
     "data": {
      "text/plain": [
       "{'best_iteration': '295',\n",
       " 'best_msg': '[295]\\teval-rmse:0.31088',\n",
       " 'best_score': '0.31088'}"
      ]
     },
     "execution_count": 39,
     "metadata": {},
     "output_type": "execute_result"
    }
   ],
   "source": [
    "partial_model.attributes()"
   ]
  },
  {
   "cell_type": "code",
   "execution_count": 40,
   "metadata": {
    "collapsed": true,
    "hideCode": false,
    "hidePrompt": false
   },
   "outputs": [],
   "source": [
    "model = xgb.train(dict(xgb_params, silent=0), xgbfulltrain, num_boost_round=num_boost_round)\n",
    "xgbvalpred=model.predict(xgbval)\n",
    "xgbtestpred=model.predict(xgbtest)\n",
    "xgbtrainpred=model.predict(xgbtrain)"
   ]
  },
  {
   "cell_type": "code",
   "execution_count": 41,
   "metadata": {
    "collapsed": true,
    "hideCode": false,
    "hidePrompt": false
   },
   "outputs": [],
   "source": [
    "#Convert the data to xgb matrices\n",
    "\n",
    "#Remove macro data\n",
    "train_x_nomacro=np.delete(train_x,range(300,395),1)\n",
    "trainmod_x_nomacro = np.delete(trainmod_x,range(300,395),1)\n",
    "val_x_nomacro = np.delete(val_x,range(300,395),1)\n",
    "test_x_nomacro = np.delete(test_x ,range(300,395),1)\n",
    "colnames_nomacro = np.delete(colnames,range(300,395))\n",
    "\n",
    "xgbfulltrain=xgb.DMatrix(train_x_nomacro,train_logprice,feature_names=colnames_nomacro)\n",
    "xgbtrain=xgb.DMatrix(trainmod_x_nomacro,trainmod_y,feature_names=colnames_nomacro)\n",
    "#xgbtrain=xgb.DMatrix(PCAtransX[trainind],trainmod_y,feature_names=colnames[:50])\n",
    "xgbval=xgb.DMatrix(val_x_nomacro,val_y,feature_names=colnames_nomacro)\n",
    "xgbtest=xgb.DMatrix(test_x_nomacro,feature_names=colnames_nomacro)"
   ]
  },
  {
   "cell_type": "markdown",
   "metadata": {
    "hideCode": false,
    "hidePrompt": false
   },
   "source": [
    "#### Find optimal number of boosting Rounds"
   ]
  },
  {
   "cell_type": "code",
   "execution_count": 42,
   "metadata": {
    "hideCode": false,
    "hidePrompt": false
   },
   "outputs": [
    {
     "name": "stdout",
     "output_type": "stream",
     "text": [
      "[0]\teval-rmse:14.4289\n",
      "Will train until eval-rmse hasn't improved in 20 rounds.\n",
      "[20]\teval-rmse:5.18681\n",
      "[40]\teval-rmse:1.88803\n",
      "[60]\teval-rmse:0.743493\n",
      "[80]\teval-rmse:0.401103\n",
      "[100]\teval-rmse:0.329479\n",
      "[120]\teval-rmse:0.317296\n",
      "[140]\teval-rmse:0.314392\n",
      "[160]\teval-rmse:0.313228\n",
      "[180]\teval-rmse:0.312624\n",
      "[200]\teval-rmse:0.312378\n",
      "[220]\teval-rmse:0.312152\n",
      "[240]\teval-rmse:0.311743\n",
      "[260]\teval-rmse:0.311721\n",
      "[280]\teval-rmse:0.31154\n",
      "[300]\teval-rmse:0.311384\n",
      "Stopping. Best iteration:\n",
      "[299]\teval-rmse:0.311383\n",
      "\n"
     ]
    }
   ],
   "source": [
    "xgb_params = {\n",
    "    'eta': 0.05,\n",
    "    'max_depth': 5,\n",
    "    'subsample': 1,\n",
    "    'colsample_bytree': 0.7,\n",
    "    'objective': 'reg:linear',\n",
    "    'eval_metric': 'rmse',\n",
    "    'silent': 1\n",
    "}\n",
    "\n",
    "partial_model = xgb.train(xgb_params, xgbtrain, num_boost_round=1000, evals=[(xgbval, 'eval')],early_stopping_rounds=20, verbose_eval=20)\n",
    "XGBvalpred = partial_model.predict(xgbval)\n",
    "num_boost_round = partial_model.best_iteration"
   ]
  },
  {
   "cell_type": "code",
   "execution_count": 43,
   "metadata": {
    "hideCode": false,
    "hidePrompt": false,
    "scrolled": true
   },
   "outputs": [
    {
     "data": {
      "image/png": "[encoded data removed]",
      "text/plain": [
       "<matplotlib.figure.Figure at 0x115a81c88>"
      ]
     },
     "metadata": {},
     "output_type": "display_data"
    }
   ],
   "source": [
    "importance = partial_model.get_fscore()\n",
    "VariableImpDf=pd.DataFrame(list(importance.items()),columns=['Variable','Fscore'])\n",
    "SortedVIDf=VariableImpDf.sort_values('Fscore',ascending=False)\n",
    "fig=plt.figure()\n",
    "numfeatures=25\n",
    "sns.barplot(SortedVIDf.Fscore[0:numfeatures],SortedVIDf.Variable[0:numfeatures],color=color[0])\n",
    "plt.title(\"XGB feature importance\")\n",
    "plt.tight_layout()\n",
    "plt.savefig('xgbfeatimp.png',dpi=300)\n"
   ]
  },
  {
   "cell_type": "code",
   "execution_count": 44,
   "metadata": {
    "collapsed": true,
    "hideCode": false,
    "hidePrompt": false
   },
   "outputs": [],
   "source": [
    "top200= SortedVIDf.Variable[0:200].values\n",
    "\n",
    "def reducefeatimp(data):\n",
    "    datadf = pd.DataFrame(data,columns=colnames_nomacro)\n",
    "    return datadf[top200]\n",
    "\n",
    "train_x_reduced=reducefeatimp(train_x_nomacro)\n",
    "trainmod_x_reduced=reducefeatimp(trainmod_x_nomacro)\n",
    "val_x_reduced=reducefeatimp(val_x_nomacro)\n",
    "test_x_reduced=reducefeatimp(test_x_nomacro)\n",
    "\n",
    "xgbfulltrain_reduced=xgb.DMatrix(train_x_reduced.values,train_logprice,feature_names=top200)\n",
    "xgbtrain_reduced=xgb.DMatrix(trainmod_x_reduced.values , trainmod_y,feature_names=top200)\n",
    "xgbval_reduced=xgb.DMatrix(val_x_reduced.values , val_y , feature_names=top200)\n",
    "xgbtest_reduced=xgb.DMatrix(test_x_reduced.values , feature_names=top200)"
   ]
  },
  {
   "cell_type": "code",
   "execution_count": 45,
   "metadata": {
    "hideCode": false,
    "hidePrompt": false
   },
   "outputs": [
    {
     "data": {
      "text/plain": [
       "Index(['full_sq', 'life_sq', 'floor', 'max_floor', 'material', 'build_year',\n",
       "       'num_room', 'kitch_sq', 'state', 'product_type',\n",
       "       ...\n",
       "       'average_provision_of_build_contract_y', 'micex_rgbi_tr_y',\n",
       "       'micex_cbi_tr_y', 'deposits_rate_y', 'mortgage_value_y',\n",
       "       'mortgage_rate_y', 'income_per_cap_y', 'rent_price_4+room_bus_y',\n",
       "       'museum_visitis_per_100_cap_y', 'apartment_build_y'],\n",
       "      dtype='object', length=329)"
      ]
     },
     "execution_count": 45,
     "metadata": {},
     "output_type": "execute_result"
    }
   ],
   "source": [
    "all_df.columns"
   ]
  },
  {
   "cell_type": "code",
   "execution_count": 46,
   "metadata": {
    "hideCode": false,
    "hidePrompt": false
   },
   "outputs": [
    {
     "name": "stdout",
     "output_type": "stream",
     "text": [
      "[0]\teval-rmse:14.4287\n",
      "Will train until eval-rmse hasn't improved in 20 rounds.\n",
      "[20]\teval-rmse:5.18692\n",
      "[40]\teval-rmse:1.88891\n",
      "[60]\teval-rmse:0.744374\n",
      "[80]\teval-rmse:0.401852\n",
      "[100]\teval-rmse:0.32998\n",
      "[120]\teval-rmse:0.317775\n",
      "[140]\teval-rmse:0.314798\n",
      "[160]\teval-rmse:0.313679\n",
      "[180]\teval-rmse:0.313019\n",
      "[200]\teval-rmse:0.312666\n",
      "[220]\teval-rmse:0.312577\n",
      "[240]\teval-rmse:0.31232\n",
      "[260]\teval-rmse:0.312423\n",
      "Stopping. Best iteration:\n",
      "[247]\teval-rmse:0.312278\n",
      "\n"
     ]
    },
    {
     "data": {
      "image/png": "[encoded data removed]",
      "text/plain": [
       "<matplotlib.figure.Figure at 0x115f13208>"
      ]
     },
     "metadata": {},
     "output_type": "display_data"
    }
   ],
   "source": [
    "partial_model = xgb.train(xgb_params, xgbtrain_reduced, num_boost_round=1000, evals=[(xgbval_reduced, 'eval')],early_stopping_rounds=20, verbose_eval=20)\n",
    "num_boost_round = partial_model.best_iteration\n",
    "\n",
    "VariableImpDf=pd.DataFrame(list(importance.items()),columns=['Variable','Fscore'])\n",
    "SortedVIDf=VariableImpDf.sort_values('Fscore',ascending=False)\n",
    "fig=plt.figure()\n",
    "numfeatures=25\n",
    "sns.barplot(SortedVIDf.Fscore[0:numfeatures],SortedVIDf.Variable[0:numfeatures],color=color[0])\n",
    "plt.tight_layout()\n"
   ]
  },
  {
   "cell_type": "code",
   "execution_count": 47,
   "metadata": {
    "collapsed": true,
    "hideCode": false,
    "hidePrompt": false
   },
   "outputs": [],
   "source": [
    "model = xgb.train(dict(xgb_params, silent=0), xgbfulltrain_reduced, num_boost_round=num_boost_round)"
   ]
  },
  {
   "cell_type": "code",
   "execution_count": 48,
   "metadata": {
    "collapsed": true,
    "hideCode": false,
    "hidePrompt": false
   },
   "outputs": [],
   "source": [
    "ylog_pred = model.predict(xgbtest_reduced)\n",
    "y_pred = np.exp(ylog_pred) - 1\n",
    "\n",
    "df_sub = pd.DataFrame({'id': test_id, 'price_doc': y_pred})\n",
    "\n",
    "df_sub.to_csv('sub.csv', index=False)\n"
   ]
  },
  {
   "cell_type": "markdown",
   "metadata": {
    "hideCode": false,
    "hidePrompt": false
   },
   "source": [
    "### Hyperparameter optimization"
   ]
  },
  {
   "cell_type": "code",
   "execution_count": 50,
   "metadata": {
    "hideCode": false,
    "hidePrompt": false
   },
   "outputs": [],
   "source": [
    "    #Define parameter space for xgb and random forest\n",
    "    XGBspace = {\n",
    "             'n_estimators' : hp.quniform('n_estimators', 200, 400,1),\n",
    "             'max_depth': hp.choice('max_depth',[3,5,7,9,12,15,17,25]),\n",
    "             'eta' : hp.choice('eta', [0.01,.015,.025,.05,.1]),\n",
    "             'min_child_weight' : hp.quniform('min_child_weight', 1, 7,1),\n",
    "             'subsample' : hp.quniform('subsample', 0.6, 1,.1),\n",
    "             'gamma' : hp.choice('gamma', [0.05,.1,.3,.5,.7,.9, 1]),\n",
    "             'colsample_bytree' : hp.quniform('colsample_bytree', 0.5, 1, 0.1),\n",
    "             'objective': 'reg:linear',\n",
    "             'eval_metric': 'rmse',\n",
    "             'silent' : 0,\n",
    "             'lambda' : hp.choice('lambda',[0.01,.1,1,.05]),\n",
    "             'alpha' : hp.choice('alpha',[0,.1,.5,1,.05])\n",
    "             }\n",
    "\n",
    "\n",
    "    RFspace = {'n_estimators': 60,\n",
    "               'oob_score':  True,\n",
    "               'max_features': hp.uniform('max_features',.2,.45),\n",
    "               'min_samples_leaf': hp.choice('min_samples_leaf',[1,2,5,10]),\n",
    "               'max_depth': hp.choice('max_depth',[5,8,15,25,30]),\n",
    "               'n_jobs': 8\n",
    "              }"
   ]
  },
  {
   "cell_type": "code",
   "execution_count": 51,
   "metadata": {
    "collapsed": true,
    "hideCode": false,
    "hidePrompt": false
   },
   "outputs": [],
   "source": [
    "def XGBscore(params):\n",
    "    boost_rounds=int(params['n_estimators'])\n",
    "    model = xgb.train(params, xgbtrain, num_boost_round=boost_rounds)\n",
    "    del params['n_estimators']\n",
    "    \n",
    "    predictions = model.predict(xgbval)\n",
    "    yval=xgbval.get_label()\n",
    "    score = np.sqrt(sklm.mean_squared_error(yval, predictions))\n",
    "    print(\"\\tObjective {0}\\n\\n\".format(score))\n",
    "    \n",
    "    return {'loss': score, 'status': STATUS_OK}\n",
    "\n",
    "def RFscore(params):\n",
    "    RFmodel = RandomForestRegressor(**params)\n",
    "    RFmodel.fit(trainmod_x_medianimputed, trainmod_y)\n",
    "    score = np.sqrt(sklm.mean_squared_error(RFmodel.predict(val_x_medianimputed),val_y))\n",
    "    print(\"\\tObjective {0}\\n\\n\".format(score))\n",
    "\n",
    "    return {'loss': score, 'status': STATUS_OK}"
   ]
  },
  {
   "cell_type": "code",
   "execution_count": 53,
   "metadata": {
    "hideCode": false,
    "hidePrompt": false
   },
   "outputs": [
    {
     "name": "stdout",
     "output_type": "stream",
     "text": [
      "\tObjective 0.3403657462373657\n",
      "\n",
      "\n",
      "\tObjective 0.3172940214485765\n",
      "\n",
      "\n",
      "\tObjective 0.3160481882702428\n",
      "\n",
      "\n",
      "\tObjective 0.3406514672167043\n",
      "\n",
      "\n",
      "\tObjective 0.3128000095582376\n",
      "\n",
      "\n",
      "\tObjective 0.3437273270760524\n",
      "\n",
      "\n",
      "\tObjective 0.31267972428549384\n",
      "\n",
      "\n",
      "\tObjective 0.3450966967452232\n",
      "\n",
      "\n",
      "\tObjective 0.32192195172399096\n",
      "\n",
      "\n",
      "\tObjective 0.312045790037823\n",
      "\n",
      "\n"
     ]
    }
   ],
   "source": [
    "rftrials = Trials()\n",
    "rfbest = fmin(fn=RFscore, space=RFspace, algo=tpe.suggest, trials=rftrials, max_evals=10)"
   ]
  },
  {
   "cell_type": "code",
   "execution_count": 54,
   "metadata": {
    "hideCode": false,
    "hidePrompt": false,
    "scrolled": true
   },
   "outputs": [
    {
     "name": "stdout",
     "output_type": "stream",
     "text": [
      "\tObjective 0.49823394417762756\n",
      "\n",
      "\n",
      "\tObjective 0.31265580654144287\n",
      "\n",
      "\n",
      "\tObjective 0.3119831681251526\n",
      "\n",
      "\n",
      "\tObjective 0.45602160692214966\n",
      "\n",
      "\n",
      "\tObjective 0.3171469569206238\n",
      "\n",
      "\n",
      "\tObjective 0.36090341210365295\n",
      "\n",
      "\n",
      "\tObjective 0.5859184861183167\n",
      "\n",
      "\n",
      "\tObjective 1.0649808645248413\n",
      "\n",
      "\n",
      "\tObjective 0.316430926322937\n",
      "\n",
      "\n",
      "\tObjective 0.3101452887058258\n",
      "\n",
      "\n"
     ]
    }
   ],
   "source": [
    "xgbtrials = Trials()\n",
    "xgbbest = fmin(fn=XGBscore, space=XGBspace, algo=tpe.suggest, trials=xgbtrials, max_evals=10)"
   ]
  },
  {
   "cell_type": "code",
   "execution_count": 55,
   "metadata": {
    "collapsed": true
   },
   "outputs": [],
   "source": [
    "rfparams ={'max_features':0.3418,'min_samples_leaf':5,'max_depth':30}"
   ]
  },
  {
   "cell_type": "code",
   "execution_count": 56,
   "metadata": {},
   "outputs": [
    {
     "name": "stdout",
     "output_type": "stream",
     "text": [
      "val errror  0.320279980351 train error  0.226227701895\n"
     ]
    }
   ],
   "source": [
    "RFmodel = RandomForestRegressor(**rfparams)\n",
    "RFmodel.fit(trainmod_x_medianimputed, trainmod_y)\n",
    "    \n",
    "RFvalpred=RFmodel.predict(val_x_medianimputed)\n",
    "RFtrainpred=RFmodel.predict(trainmod_x_medianimputed)\n",
    "RFtestpred=RFmodel.predict(test_x_medianimputed)\n",
    "\n",
    "RFvalerror=np.sqrt(sklm.mean_squared_error(RFvalpred,val_y))\n",
    "RFtrainerror=np.sqrt(sklm.mean_squared_error(RFtrainpred,trainmod_y))\n",
    "print('val errror ', RFvalerror, 'train error ', RFtrainerror)"
   ]
  },
  {
   "cell_type": "code",
   "execution_count": 57,
   "metadata": {
    "collapsed": true
   },
   "outputs": [],
   "source": [
    "best={'alpha': 0,\n",
    "   'colsample_bytree': 0.5,\n",
    "   'eta': 0.05,\n",
    "   'gamma': 0.7,\n",
    "   'lambda': 0.01,\n",
    "    'max_depth':5,\n",
    "   'min_child_weight': 7.0,\n",
    "   'n_estimators': 261,\n",
    "   'subsample': 1}"
   ]
  },
  {
   "cell_type": "code",
   "execution_count": 58,
   "metadata": {
    "hideCode": false,
    "hidePrompt": false
   },
   "outputs": [
    {
     "name": "stdout",
     "output_type": "stream",
     "text": [
      "val errror  0.309557 train error  0.273570526861\n"
     ]
    }
   ],
   "source": [
    "model = xgb.train(best, xgbtrain, num_boost_round=int(best['n_estimators']))\n",
    "yval=xgbval.get_label()\n",
    "xgbvalpred=model.predict(xgbval)\n",
    "xgbtrainpred=model.predict(xgbtrain)\n",
    "xgbtestpred=model.predict(xgbtest)\n",
    "xgbvalerror=np.sqrt(sklm.mean_squared_error(yval, model.predict(xgbval)))\n",
    "xgbtrainerror=np.sqrt(sklm.mean_squared_error(trainmod_y, model.predict(xgbtrain)))\n",
    "print('val errror ', xgbvalerror, 'train error ', xgbtrainerror)\n"
   ]
  },
  {
   "cell_type": "code",
   "execution_count": 59,
   "metadata": {
    "collapsed": true,
    "hideCode": false,
    "hidePrompt": false
   },
   "outputs": [],
   "source": [
    "def bestTrial(trialsfromopt):\n",
    "    values=[]\n",
    "    for x in range(0,len(trialsfromopt)):\n",
    "        values.append(trialsfromopt.results[x]['loss'])\n",
    "    vallist=np.asarray(values)\n",
    "    top5 = [trialsfromopt.trials[i] for i in np.argsort(vallist)[:3]]\n",
    "    return top5"
   ]
  },
  {
   "cell_type": "code",
   "execution_count": 60,
   "metadata": {
    "collapsed": true,
    "hideCode": false,
    "hidePrompt": false
   },
   "outputs": [],
   "source": [
    "ylog_pred = model.predict(xgbtest)\n",
    "y_pred = np.exp(ylog_pred) - 1\n",
    "\n",
    "df_sub = pd.DataFrame({'id': test_id, 'price_doc': y_pred})\n",
    "\n",
    "df_sub.to_csv('sub.csv', index=False)\n"
   ]
  },
  {
   "cell_type": "markdown",
   "metadata": {
    "hideCode": false,
    "hidePrompt": false
   },
   "source": [
    "## model Stack"
   ]
  },
  {
   "cell_type": "code",
   "execution_count": 61,
   "metadata": {
    "hideCode": false,
    "hidePrompt": false
   },
   "outputs": [
    {
     "ename": "NameError",
     "evalue": "name 'Ridgeknnvalpred' is not defined",
     "output_type": "error",
     "traceback": [
      "\u001b[0;31m---------------------------------------------------------------------------\u001b[0m",
      "\u001b[0;31mNameError\u001b[0m                                 Traceback (most recent call last)",
      "\u001b[0;32m<ipython-input-61-d849b40e04c0>\u001b[0m in \u001b[0;36m<module>\u001b[0;34m()\u001b[0m\n\u001b[0;32m----> 1\u001b[0;31m \u001b[0mvalstack\u001b[0m\u001b[0;34m=\u001b[0m\u001b[0mnp\u001b[0m\u001b[0;34m.\u001b[0m\u001b[0mstack\u001b[0m\u001b[0;34m(\u001b[0m\u001b[0;34m(\u001b[0m\u001b[0mRFvalpred\u001b[0m\u001b[0;34m,\u001b[0m\u001b[0mxgbvalpred\u001b[0m\u001b[0;34m,\u001b[0m\u001b[0mRidgeknnvalpred\u001b[0m\u001b[0;34m)\u001b[0m\u001b[0;34m,\u001b[0m\u001b[0maxis\u001b[0m\u001b[0;34m=\u001b[0m\u001b[0;36m1\u001b[0m\u001b[0;34m)\u001b[0m\u001b[0;34m\u001b[0m\u001b[0m\n\u001b[0m\u001b[1;32m      2\u001b[0m \u001b[0mtrainstack\u001b[0m\u001b[0;34m=\u001b[0m\u001b[0mnp\u001b[0m\u001b[0;34m.\u001b[0m\u001b[0mstack\u001b[0m\u001b[0;34m(\u001b[0m\u001b[0;34m(\u001b[0m\u001b[0mRFtrainpred\u001b[0m\u001b[0;34m,\u001b[0m\u001b[0mxgbtrainpred\u001b[0m\u001b[0;34m,\u001b[0m\u001b[0mRidgeknntrainpred\u001b[0m\u001b[0;34m)\u001b[0m\u001b[0;34m,\u001b[0m\u001b[0maxis\u001b[0m\u001b[0;34m=\u001b[0m\u001b[0;36m1\u001b[0m\u001b[0;34m)\u001b[0m\u001b[0;34m\u001b[0m\u001b[0m\n\u001b[1;32m      3\u001b[0m \u001b[0mteststack\u001b[0m\u001b[0;34m=\u001b[0m\u001b[0mnp\u001b[0m\u001b[0;34m.\u001b[0m\u001b[0mstack\u001b[0m\u001b[0;34m(\u001b[0m\u001b[0;34m(\u001b[0m\u001b[0mRFtestpred\u001b[0m\u001b[0;34m,\u001b[0m\u001b[0mxgbtestpred\u001b[0m\u001b[0;34m,\u001b[0m\u001b[0mRidgeknntestpred\u001b[0m\u001b[0;34m)\u001b[0m\u001b[0;34m,\u001b[0m\u001b[0maxis\u001b[0m\u001b[0;34m=\u001b[0m\u001b[0;36m1\u001b[0m\u001b[0;34m)\u001b[0m\u001b[0;34m\u001b[0m\u001b[0m\n",
      "\u001b[0;31mNameError\u001b[0m: name 'Ridgeknnvalpred' is not defined"
     ]
    }
   ],
   "source": [
    "valstack=np.stack((RFvalpred,xgbvalpred,Ridgeknnvalpred),axis=1)\n",
    "trainstack=np.stack((RFtrainpred,xgbtrainpred,Ridgeknntrainpred),axis=1)\n",
    "teststack=np.stack((RFtestpred,xgbtestpred,Ridgeknntestpred),axis=1)"
   ]
  },
  {
   "cell_type": "code",
   "execution_count": null,
   "metadata": {
    "hideCode": false,
    "hidePrompt": true
   },
   "outputs": [],
   "source": [
    "stackmodel=LinearRegression()\n",
    "stackmodel.fit(trainstack,trainmod_y)\n",
    "stackvalpred=stackmodel.predict(valstack)\n",
    "stacktrainpred=stackmodel.predict(trainstack)\n",
    "LMvalerror=np.sqrt(sklm.mean_squared_error(stackvalpred,val_y))\n",
    "LMtrainerror=np.sqrt(sklm.mean_squared_error(stacktrainpred,trainmod_y))\n",
    "\n",
    "print(LMvalerror,LMtrainerror)"
   ]
  },
  {
   "cell_type": "code",
   "execution_count": null,
   "metadata": {
    "hideCode": false,
    "hidePrompt": false
   },
   "outputs": [],
   "source": [
    "stackmodel.coef_"
   ]
  },
  {
   "cell_type": "code",
   "execution_count": null,
   "metadata": {
    "collapsed": true,
    "hideCode": false,
    "hidePrompt": false
   },
   "outputs": [],
   "source": [
    "\n",
    "stacktestpred = np.exp(logstacktestpred) - 1\n",
    "\n",
    "df_sub = pd.DataFrame({'id': test_id, 'price_doc': stacktestpred})\n",
    "\n",
    "df_sub.to_csv('sub.csv', index=False)\n"
   ]
  }
 ],
 "metadata": {
  "hide_code_all_hidden": false,
  "kernelspec": {
   "display_name": "Python 3",
   "language": "python",
   "name": "python3"
  },
  "language_info": {
   "codemirror_mode": {
    "name": "ipython",
    "version": 3
   },
   "file_extension": ".py",
   "mimetype": "text/x-python",
   "name": "python",
   "nbconvert_exporter": "python",
   "pygments_lexer": "ipython3",
   "version": "3.6.1"
  }
 },
 "nbformat": 4,
 "nbformat_minor": 2
}
